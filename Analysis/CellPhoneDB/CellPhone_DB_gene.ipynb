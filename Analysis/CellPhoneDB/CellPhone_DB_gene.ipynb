{
 "cells": [
  {
   "cell_type": "markdown",
   "id": "75994aa1-328d-4e78-91c0-ac234c74e335",
   "metadata": {},
   "source": [
    "# CellPhoneDB NON SPATIAL ??"
   ]
  },
  {
   "cell_type": "markdown",
   "id": "7f931f29-65d1-4fb8-a28f-5c178a2112f8",
   "metadata": {},
   "source": [
    "trying with the spatial data, then the single cell "
   ]
  },
  {
   "cell_type": "code",
   "execution_count": 10,
   "id": "c3f1d241-bb2a-4bed-9fd7-123708fc9451",
   "metadata": {},
   "outputs": [],
   "source": [
    "import pandas as pd\n",
    "import glob\n",
    "import sys \n",
    "import os \n",
    "import cellphonedb\n",
    "import anndata\n",
    "import seaborn as sns\n",
    "import scanpy as sc\n",
    "from scipy.sparse import csr_matrix, issparse\n",
    "\n",
    "import numpy as np\n",
    "from matplotlib import pyplot as plt\n",
    "import logging\n",
    "from scipy.sparse import issparse"
   ]
  },
  {
   "cell_type": "markdown",
   "id": "193b3676-12c0-47c8-b7a1-ce85807ad6c8",
   "metadata": {},
   "source": [
    "## With spatial data "
   ]
  },
  {
   "cell_type": "code",
   "execution_count": 11,
   "id": "74f1c0e6-8b62-46e6-825b-0e0ff1c696b8",
   "metadata": {},
   "outputs": [],
   "source": [
    "pd.set_option('display.max_columns', 100)"
   ]
  },
  {
   "cell_type": "code",
   "execution_count": 13,
   "id": "2a1859f0-4e44-4704-9df0-a49386126a94",
   "metadata": {},
   "outputs": [
    {
     "name": "stdout",
     "output_type": "stream",
     "text": [
      "3.11.7 | packaged by conda-forge | (main, Dec 23 2023, 14:43:09) [GCC 12.3.0]\n"
     ]
    }
   ],
   "source": [
    "#Need python >= 3.8 \n",
    "print(sys.version)"
   ]
  },
  {
   "cell_type": "code",
   "execution_count": 17,
   "id": "5762c3ef-77e4-4cfe-83a4-94d1cf6fd5e6",
   "metadata": {},
   "outputs": [
    {
     "data": {
      "text/plain": [
       "'/work/PRTNR/CHUV/DIR/rgottar1/spatial/env/astear/Analysis/CellPhoneDB'"
      ]
     },
     "execution_count": 17,
     "metadata": {},
     "output_type": "execute_result"
    }
   ],
   "source": [
    "os.getcwd()"
   ]
  },
  {
   "cell_type": "code",
   "execution_count": 19,
   "id": "32b57464-b695-4a45-89ad-dfb122813c0c",
   "metadata": {},
   "outputs": [],
   "source": [
    "#defining the \n",
    "\n",
    "cpdb_version = 'v5.0.0'\n",
    "cpdb_target_dir = os.path.join('/work/PRTNR/CHUV/DIR/rgottar1/spatial/env/astear/CellPhoneDB/', cpdb_version)"
   ]
  },
  {
   "cell_type": "code",
   "execution_count": 18,
   "id": "76bd63ef-a736-4e65-97ab-f7ba3135e806",
   "metadata": {},
   "outputs": [],
   "source": [
    "from cellphonedb.utils import db_utils"
   ]
  },
  {
   "cell_type": "code",
   "execution_count": null,
   "id": "02f84f54-886c-495f-a97f-2189c99d8070",
   "metadata": {},
   "outputs": [],
   "source": [
    "#from tlhe old Lung 1_1 analysis\n",
    "\n",
    "DB_V5_file_path = 'CellPhoneDB/v5.0.0/cellphonedb.zip'\n",
    "meta_file_path = 'CellPhoneDB/ad_L1_1_cell_type.tsv'\n",
    "counts_file_path = 'CellPhoneDB/logcounts.h5ad'\n",
    "out_path = 'CellPhoneDB/Basic_Analysis/method_1/'\n",
    "microenvs_file_path = 'CellPhoneDB/ad_L1_1_microenvs.tsv'"
   ]
  },
  {
   "cell_type": "code",
   "execution_count": 20,
   "id": "0988fc4e-b2c1-43fa-8d2d-f38e4053dfd6",
   "metadata": {},
   "outputs": [],
   "source": [
    "cpdb_file_path = '/work/PRTNR/CHUV/DIR/rgottar1/spatial/env/astear/CellPhoneDB/v5.0.0'"
   ]
  },
  {
   "cell_type": "code",
   "execution_count": null,
   "id": "3738cabd-85ed-4f06-b854-7aee289f4ee2",
   "metadata": {},
   "outputs": [],
   "source": [
    "#This is what we need to prepare for the method \n",
    "\n",
    "#Ligand Receptor database\n",
    "cpdb_file_path = '/work/PRTNR/CHUV/DIR/rgottar1/spatial/env/astear/CellPhoneDB/v5.0.0'\n",
    "\n",
    "#cell barcode and cell type of each cell\n",
    "meta_file_path = 'data/metadata.tsv'\n",
    "\n",
    "\n",
    "counts_file_path = 'data/normalised_log_counts.h5ad'\n",
    "microenvs_file_path = 'data/microenvironment.tsv'\n",
    "degs_file_path = 'data/DEGs_inv_trophoblast.tsv'\n",
    "active_tf_path = 'data/active_TFs.tsv'\n",
    "out_path = 'results/method3_withScore'"
   ]
  },
  {
   "cell_type": "code",
   "execution_count": null,
   "id": "c3810efa-158a-4773-a1c4-380a3ea44743",
   "metadata": {},
   "outputs": [],
   "source": [
    "metadata = pd.read_csv(meta_file_path, sep = '\\t')\n",
    "metadata.head(3)"
   ]
  },
  {
   "cell_type": "markdown",
   "id": "72668645-b640-46e3-b5b2-ced99eb2fe68",
   "metadata": {},
   "source": [
    "## With RnaSeq"
   ]
  },
  {
   "cell_type": "code",
   "execution_count": null,
   "id": "12314f5d-27d2-44f6-9c12-6eebd67c8327",
   "metadata": {},
   "outputs": [],
   "source": []
  }
 ],
 "metadata": {
  "kernelspec": {
   "display_name": "CellPhoneDB",
   "language": "python",
   "name": "cellphonedb"
  },
  "language_info": {
   "codemirror_mode": {
    "name": "ipython",
    "version": 3
   },
   "file_extension": ".py",
   "mimetype": "text/x-python",
   "name": "python",
   "nbconvert_exporter": "python",
   "pygments_lexer": "ipython3",
   "version": "3.11.7"
  }
 },
 "nbformat": 4,
 "nbformat_minor": 5
}
