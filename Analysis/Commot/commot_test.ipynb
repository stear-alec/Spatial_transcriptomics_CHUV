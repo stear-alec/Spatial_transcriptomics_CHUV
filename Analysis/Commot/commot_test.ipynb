{
 "cells": [
  {
   "cell_type": "code",
   "execution_count": 64,
   "id": "c44ae79e-7021-4f11-b611-87c2b6580cab",
   "metadata": {},
   "outputs": [],
   "source": [
    "import os\n",
    "import gc\n",
    "import ot\n",
    "import pickle\n",
    "import anndata\n",
    "import scanpy as sc\n",
    "import pandas as pd\n",
    "import numpy as np\n",
    "from scipy import sparse\n",
    "from scipy.stats import spearmanr, pearsonr\n",
    "from scipy.spatial import distance_matrix\n",
    "import matplotlib.pyplot as plt\n",
    "\n",
    "import commot as ct"
   ]
  },
  {
   "cell_type": "markdown",
   "id": "f3b6614a-308b-45e9-ab60-861ff3987df7",
   "metadata": {
    "jp-MarkdownHeadingCollapsed": true
   },
   "source": [
    "## Preprocessing"
   ]
  },
  {
   "cell_type": "code",
   "execution_count": 63,
   "id": "6c875d42-73f6-445f-9485-cad49230c26a",
   "metadata": {},
   "outputs": [],
   "source": [
    "path_L1_1 = \"/work/PRTNR/CHUV/DIR/rgottar1/spatial/env/xenium/xenium_objs/anndata/lung_L1_1.h5ad\"\n",
    "\n",
    "L1_1 = sc.read_h5ad(path_L1_1)\n",
    "\n",
    "path_chuvio_L1_1 = \"/work/PRTNR/CHUV/DIR/rgottar1/spatial/env/xenium/xenium_objs/anndata/chuvio_L1_1.h5ad\"\n",
    "\n",
    "chuvio_L1_1 = sc.read_h5ad(path_chuvio_L1_1)"
   ]
  },
  {
   "cell_type": "code",
   "execution_count": 38,
   "id": "d49e773a-3b69-4817-8913-c8a692123652",
   "metadata": {},
   "outputs": [],
   "source": [
    "adata = L1_1\n",
    "adata_chuv = chuvio_L1_1"
   ]
  },
  {
   "cell_type": "code",
   "execution_count": 39,
   "id": "49f4ae17-4525-472c-a199-3a9baa9dc50f",
   "metadata": {},
   "outputs": [],
   "source": [
    "adata.obsm['spatial'] = adata.obs[['x_centroid', 'y_centroid']].to_numpy()\n",
    "adata_chuv.obsm['spatial'] = adata_chuv.obs[['x_centroid', 'y_centroid']].to_numpy()"
   ]
  },
  {
   "cell_type": "code",
   "execution_count": 40,
   "id": "0c0722e3-d9ce-4236-a8b3-545e0fa752af",
   "metadata": {},
   "outputs": [],
   "source": [
    "adata.raw = adata\n",
    "adata_chuv.raw = adata_chuv\n",
    "#preprocessing by normalisation through log1p has already been done. "
   ]
  },
  {
   "cell_type": "code",
   "execution_count": 41,
   "id": "4b93eb5d-b64f-4a1a-9e8a-dabfb1a599fa",
   "metadata": {},
   "outputs": [
    {
     "data": {
      "text/plain": [
       "AnnData object with n_obs × n_vars = 72666 × 271\n",
       "    obs: 'orig.ident', 'nCount_originalexp', 'nFeature_originalexp', 'cell_id', 'x_centroid', 'y_centroid', 'transcript_counts', 'control_probe_counts', 'control_codeword_counts', 'unassigned_codeword_counts', 'deprecated_codeword_counts', 'total_counts', 'cell_area', 'nucleus_area', 'sample_id', 'sum', 'detected', 'subsets_Mito_sum', 'subsets_Mito_detected', 'subsets_Mito_percent', 'total', 'libsize_drop', 'sizeFactor', 'nCount_SCT', 'nFeature_SCT', 'SCT_snn_res.0.8', 'seurat_clusters', 'singler_annotation', 'ident'\n",
       "    uns: 'X_name'\n",
       "    obsm: 'PCA', 'TSNE', 'UMAP', 'spatial'\n",
       "    layers: 'logcounts'"
      ]
     },
     "execution_count": 41,
     "metadata": {},
     "output_type": "execute_result"
    }
   ],
   "source": [
    "adata"
   ]
  },
  {
   "cell_type": "code",
   "execution_count": 42,
   "id": "f93f6a1c-169e-419e-90a2-e2c0e60c5767",
   "metadata": {},
   "outputs": [],
   "source": [
    "adata_dis500 = adata.copy()\n",
    "adata_chuv_dis500 = adata_chuv.copy()"
   ]
  },
  {
   "cell_type": "code",
   "execution_count": 43,
   "id": "0cf1d975-4771-4a4b-a783-093d17fa1063",
   "metadata": {},
   "outputs": [],
   "source": [
    "#What is this doing ?\n",
    "#sc.pp.highly_variable_genes(adata, min_mean=0.0125, max_mean=3, min_disp=0.5)\n",
    "#adata = adata[:, adata.var.highly_variable]\n",
    "#sc.tl.pca(adata, svd_solver='arpack')\n",
    "#sc.pp.neighbors(adata, n_neighbors=10, n_pcs=40)\n",
    "#sc.tl.umap(adata)"
   ]
  },
  {
   "cell_type": "code",
   "execution_count": 44,
   "id": "2ee2291d-dd9d-4466-9379-b4c61778da0e",
   "metadata": {
    "scrolled": true
   },
   "outputs": [
    {
     "data": {
      "text/plain": [
       "AnnData object with n_obs × n_vars = 72666 × 271\n",
       "    obs: 'orig.ident', 'nCount_originalexp', 'nFeature_originalexp', 'cell_id', 'x_centroid', 'y_centroid', 'transcript_counts', 'control_probe_counts', 'control_codeword_counts', 'unassigned_codeword_counts', 'deprecated_codeword_counts', 'total_counts', 'cell_area', 'nucleus_area', 'sample_id', 'sum', 'detected', 'subsets_Mito_sum', 'subsets_Mito_detected', 'subsets_Mito_percent', 'total', 'libsize_drop', 'sizeFactor', 'nCount_SCT', 'nFeature_SCT', 'SCT_snn_res.0.8', 'seurat_clusters', 'singler_annotation', 'ident'\n",
       "    uns: 'X_name'\n",
       "    obsm: 'PCA', 'TSNE', 'UMAP', 'spatial'\n",
       "    layers: 'logcounts'"
      ]
     },
     "execution_count": 44,
     "metadata": {},
     "output_type": "execute_result"
    }
   ],
   "source": [
    "adata"
   ]
  },
  {
   "cell_type": "code",
   "execution_count": 45,
   "id": "a4fd4075-a347-43a7-aa46-82de09c99234",
   "metadata": {},
   "outputs": [],
   "source": [
    "## Plotting the tissue through scanpy\n",
    "#sc.pl.spatial(adata, color='singler_annotation')"
   ]
  },
  {
   "cell_type": "markdown",
   "id": "aa900474-4b15-415c-aecc-e72926b2b21d",
   "metadata": {
    "jp-MarkdownHeadingCollapsed": true
   },
   "source": [
    "## Spatial communication inference"
   ]
  },
  {
   "cell_type": "markdown",
   "id": "1ce5fe53-29c3-4464-b9cf-f7b7556a5649",
   "metadata": {},
   "source": [
    "Using CellChat ligand-receptor database (only other option is CellPhoneDB_v4.0), try using the Liana one that is more complete ? "
   ]
  },
  {
   "cell_type": "code",
   "execution_count": 46,
   "id": "d73cfd29-503f-4080-878e-198f193681d6",
   "metadata": {},
   "outputs": [
    {
     "name": "stdout",
     "output_type": "stream",
     "text": [
      "(1199, 4)\n"
     ]
    }
   ],
   "source": [
    "df_cellchat = ct.pp.ligand_receptor_database(species='human', signaling_type='Secreted Signaling', database='CellChat')\n",
    "print(df_cellchat.shape)"
   ]
  },
  {
   "cell_type": "code",
   "execution_count": 47,
   "id": "f5f8902a-4ac7-44e3-840b-27edd0cce2e4",
   "metadata": {},
   "outputs": [
    {
     "name": "stdout",
     "output_type": "stream",
     "text": [
      "(8, 4)\n"
     ]
    }
   ],
   "source": [
    "df_cellchat_filtered = ct.pp.filter_lr_database(df_cellchat, adata_dis500, min_cell_pct=0.00001)\n",
    "print(df_cellchat_filtered.shape)"
   ]
  },
  {
   "cell_type": "code",
   "execution_count": 53,
   "id": "e90df750-df59-4ec2-a6f7-1c024b4b181d",
   "metadata": {},
   "outputs": [
    {
     "name": "stdout",
     "output_type": "stream",
     "text": [
      "(34, 4)\n"
     ]
    }
   ],
   "source": [
    "#barely more interesting ligand receptors found with the chuvio panel\n",
    "df_cellchat_filtered_chuv = ct.pp.filter_lr_database(df_cellchat, adata_chuv_dis500, min_cell_pct=0.00000001)\n",
    "print(df_cellchat_filtered_chuv.shape)"
   ]
  },
  {
   "cell_type": "code",
   "execution_count": 54,
   "id": "1b9d0a00-879e-4624-b294-d36d0ac47974",
   "metadata": {
    "scrolled": true
   },
   "outputs": [
    {
     "data": {
      "text/html": [
       "<div>\n",
       "<style scoped>\n",
       "    .dataframe tbody tr th:only-of-type {\n",
       "        vertical-align: middle;\n",
       "    }\n",
       "\n",
       "    .dataframe tbody tr th {\n",
       "        vertical-align: top;\n",
       "    }\n",
       "\n",
       "    .dataframe thead th {\n",
       "        text-align: right;\n",
       "    }\n",
       "</style>\n",
       "<table border=\"1\" class=\"dataframe\">\n",
       "  <thead>\n",
       "    <tr style=\"text-align: right;\">\n",
       "      <th></th>\n",
       "      <th>0</th>\n",
       "      <th>1</th>\n",
       "      <th>2</th>\n",
       "      <th>3</th>\n",
       "    </tr>\n",
       "  </thead>\n",
       "  <tbody>\n",
       "    <tr>\n",
       "      <th>0</th>\n",
       "      <td>AREG</td>\n",
       "      <td>EGFR</td>\n",
       "      <td>EGF</td>\n",
       "      <td>Secreted Signaling</td>\n",
       "    </tr>\n",
       "    <tr>\n",
       "      <th>1</th>\n",
       "      <td>CXCL5</td>\n",
       "      <td>ACKR1</td>\n",
       "      <td>CXCL</td>\n",
       "      <td>Secreted Signaling</td>\n",
       "    </tr>\n",
       "    <tr>\n",
       "      <th>2</th>\n",
       "      <td>CXCL6</td>\n",
       "      <td>ACKR1</td>\n",
       "      <td>CXCL</td>\n",
       "      <td>Secreted Signaling</td>\n",
       "    </tr>\n",
       "    <tr>\n",
       "      <th>3</th>\n",
       "      <td>CXCL9</td>\n",
       "      <td>ACKR1</td>\n",
       "      <td>CXCL</td>\n",
       "      <td>Secreted Signaling</td>\n",
       "    </tr>\n",
       "    <tr>\n",
       "      <th>4</th>\n",
       "      <td>CXCL10</td>\n",
       "      <td>ACKR1</td>\n",
       "      <td>CXCL</td>\n",
       "      <td>Secreted Signaling</td>\n",
       "    </tr>\n",
       "    <tr>\n",
       "      <th>5</th>\n",
       "      <td>CXCL13</td>\n",
       "      <td>ACKR1</td>\n",
       "      <td>CXCL</td>\n",
       "      <td>Secreted Signaling</td>\n",
       "    </tr>\n",
       "    <tr>\n",
       "      <th>6</th>\n",
       "      <td>CXCL13</td>\n",
       "      <td>CXCR5</td>\n",
       "      <td>CXCL</td>\n",
       "      <td>Secreted Signaling</td>\n",
       "    </tr>\n",
       "    <tr>\n",
       "      <th>7</th>\n",
       "      <td>FASLG</td>\n",
       "      <td>FAS</td>\n",
       "      <td>FASLG</td>\n",
       "      <td>Secreted Signaling</td>\n",
       "    </tr>\n",
       "  </tbody>\n",
       "</table>\n",
       "</div>"
      ],
      "text/plain": [
       "        0      1      2                   3\n",
       "0    AREG   EGFR    EGF  Secreted Signaling\n",
       "1   CXCL5  ACKR1   CXCL  Secreted Signaling\n",
       "2   CXCL6  ACKR1   CXCL  Secreted Signaling\n",
       "3   CXCL9  ACKR1   CXCL  Secreted Signaling\n",
       "4  CXCL10  ACKR1   CXCL  Secreted Signaling\n",
       "5  CXCL13  ACKR1   CXCL  Secreted Signaling\n",
       "6  CXCL13  CXCR5   CXCL  Secreted Signaling\n",
       "7   FASLG    FAS  FASLG  Secreted Signaling"
      ]
     },
     "execution_count": 54,
     "metadata": {},
     "output_type": "execute_result"
    }
   ],
   "source": [
    "df_cellchat_filtered"
   ]
  },
  {
   "cell_type": "code",
   "execution_count": 27,
   "id": "b0c7954e-d7c8-4d26-b588-681735ee31af",
   "metadata": {},
   "outputs": [
    {
     "data": {
      "text/plain": [
       "AnnData object with n_obs × n_vars = 72666 × 271\n",
       "    obs: 'orig.ident', 'nCount_originalexp', 'nFeature_originalexp', 'cell_id', 'x_centroid', 'y_centroid', 'transcript_counts', 'control_probe_counts', 'control_codeword_counts', 'unassigned_codeword_counts', 'deprecated_codeword_counts', 'total_counts', 'cell_area', 'nucleus_area', 'sample_id', 'sum', 'detected', 'subsets_Mito_sum', 'subsets_Mito_detected', 'subsets_Mito_percent', 'total', 'libsize_drop', 'sizeFactor', 'nCount_SCT', 'nFeature_SCT', 'SCT_snn_res.0.8', 'seurat_clusters', 'singler_annotation', 'ident'\n",
       "    uns: 'X_name'\n",
       "    obsm: 'PCA', 'TSNE', 'UMAP', 'spatial'\n",
       "    layers: 'logcounts'"
      ]
     },
     "execution_count": 27,
     "metadata": {},
     "output_type": "execute_result"
    }
   ],
   "source": [
    "adata_dis500"
   ]
  },
  {
   "cell_type": "code",
   "execution_count": 1,
   "id": "de813f3c-3fd6-4c72-80a5-009b778ebdfb",
   "metadata": {},
   "outputs": [
    {
     "ename": "NameError",
     "evalue": "name 'ct' is not defined",
     "output_type": "error",
     "traceback": [
      "\u001b[0;31m---------------------------------------------------------------------------\u001b[0m",
      "\u001b[0;31mNameError\u001b[0m                                 Traceback (most recent call last)",
      "Cell \u001b[0;32mIn[1], line 1\u001b[0m\n\u001b[0;32m----> 1\u001b[0m \u001b[43mct\u001b[49m\u001b[38;5;241m.\u001b[39mtl\u001b[38;5;241m.\u001b[39mspatial_communication(adata_dis500,\n\u001b[1;32m      2\u001b[0m     database_name\u001b[38;5;241m=\u001b[39m\u001b[38;5;124m'\u001b[39m\u001b[38;5;124mcellchat\u001b[39m\u001b[38;5;124m'\u001b[39m, df_ligrec\u001b[38;5;241m=\u001b[39mdf_cellchat_filtered, dis_thr\u001b[38;5;241m=\u001b[39m\u001b[38;5;241m500\u001b[39m, heteromeric\u001b[38;5;241m=\u001b[39m\u001b[38;5;28;01mTrue\u001b[39;00m, pathway_sum\u001b[38;5;241m=\u001b[39m\u001b[38;5;28;01mTrue\u001b[39;00m)\n",
      "\u001b[0;31mNameError\u001b[0m: name 'ct' is not defined"
     ]
    }
   ],
   "source": [
    "ct.tl.spatial_communication(adata_dis500,\n",
    "    database_name='cellchat', df_ligrec=df_cellchat_filtered, dis_thr=500, heteromeric=True, pathway_sum=True)"
   ]
  },
  {
   "cell_type": "code",
   "execution_count": null,
   "id": "b09ffd7d-6939-4dac-abe9-b34d0959afa0",
   "metadata": {},
   "outputs": [],
   "source": [
    "ct.tl.spatial_communication(adata_chuv_dis500,\n",
    "    database_name='cellchat', df_ligrec=df_cellchat_filtered_chuv, dis_thr=500, heteromeric=True, pathway_sum=True)"
   ]
  },
  {
   "cell_type": "code",
   "execution_count": 13,
   "id": "f70c95ed-06cb-4ba9-acc1-ee59fd9c16d9",
   "metadata": {},
   "outputs": [],
   "source": [
    "#Reading the results from the commot analysis -> took about 20 minutes to run for L1_1 and chuvio_L1_1 "
   ]
  },
  {
   "cell_type": "code",
   "execution_count": 56,
   "id": "3735aea2-a8eb-4810-bf60-18faed6cbb43",
   "metadata": {},
   "outputs": [],
   "source": [
    "path_adata_chuv_dis500 = \"/work/PRTNR/CHUV/DIR/rgottar1/spatial/env/astear/Analysis/Commot/adata_chuv_dis500.h5ad\"\n",
    "path_adata_dis500 = \"/work/PRTNR/CHUV/DIR/rgottar1/spatial/env/astear/Analysis/Commot/adata_dis500.h5ad\"\n",
    "\n",
    "adata_chuv_dis500_commot = sc.read_h5ad(path_adata_chuv_dis500)\n",
    "adata_dis500_commot = sc.read_h5ad(path_adata_dis500)\n"
   ]
  },
  {
   "cell_type": "markdown",
   "id": "76798117-b6e1-42a7-885b-15715468f72d",
   "metadata": {
    "jp-MarkdownHeadingCollapsed": true
   },
   "source": [
    "#### OUT checking run time for commot"
   ]
  },
  {
   "cell_type": "code",
   "execution_count": 9,
   "id": "1bd3e6e1-897f-4892-b88f-0d57e51c806e",
   "metadata": {},
   "outputs": [
    {
     "name": "stdout",
     "output_type": "stream",
     "text": [
      "The file located at the path /work/PRTNR/CHUV/DIR/rgottar1/spatial/env/astear/Analysis/Commot/adata_chuv_dis500.h5ad was created at Thu Apr 25 11:43:14 2024 and was last modified at Thu Apr 25 11:43:14 2024\n"
     ]
    }
   ],
   "source": [
    "import os\n",
    "import time\n",
    "\n",
    "# Path to the file/directory\n",
    "path = path_adata_chuv_dis500\n",
    "\n",
    "# Both the variables would contain time\n",
    "# elapsed since EPOCH in float\n",
    "ti_c = os.path.getctime(path)\n",
    "ti_m = os.path.getmtime(path)\n",
    "\n",
    "# Converting the time in seconds to a timestamp\n",
    "c_ti = time.ctime(ti_c)\n",
    "m_ti = time.ctime(ti_m)\n",
    "\n",
    "print(f\"The file located at the path {path} \\\n",
    "was created at {c_ti} and was \"\n",
    "      f\"last modified at {m_ti}\")"
   ]
  },
  {
   "cell_type": "markdown",
   "id": "9877438c-e3a0-4b14-b4cf-7f62a8738a7a",
   "metadata": {},
   "source": [
    "# Analysing commot results "
   ]
  },
  {
   "cell_type": "code",
   "execution_count": 66,
   "id": "f688f799-8a46-42be-9b79-7a147a12d271",
   "metadata": {},
   "outputs": [],
   "source": [
    "path_adata_chuv_dis500 = \"/work/PRTNR/CHUV/DIR/rgottar1/spatial/env/astear/Analysis/Commot/adata_chuv_dis500.h5ad\"\n",
    "path_adata_dis500 = \"/work/PRTNR/CHUV/DIR/rgottar1/spatial/env/astear/Analysis/Commot/adata_dis500.h5ad\"\n",
    "\n",
    "adata_chuv_dis500_commot = sc.read_h5ad(path_adata_chuv_dis500)\n",
    "adata_dis500_commot = sc.read_h5ad(path_adata_dis500)"
   ]
  },
  {
   "cell_type": "code",
   "execution_count": 84,
   "id": "eac62eec-6d6f-4659-b603-47d37d9c81fc",
   "metadata": {},
   "outputs": [],
   "source": [
    "ct.tl.communication_direction(adata_chuv_dis500_commot, database_name='cellchat', pathway_name='CXCL', k=5)"
   ]
  },
  {
   "cell_type": "code",
   "execution_count": 74,
   "id": "a11c84ae-532d-4c99-9bca-1aa62697aaff",
   "metadata": {},
   "outputs": [
    {
     "data": {
      "text/plain": [
       "AnnData object with n_obs × n_vars = 71187 × 313\n",
       "    obs: 'orig.ident', 'nCount_originalexp', 'nFeature_originalexp', 'cell_id', 'x_centroid', 'y_centroid', 'transcript_counts', 'control_probe_counts', 'control_codeword_counts', 'unassigned_codeword_counts', 'deprecated_codeword_counts', 'total_counts', 'cell_area', 'nucleus_area', 'sample_id', 'sum', 'detected', 'subsets_Mito_sum', 'subsets_Mito_detected', 'subsets_Mito_percent', 'total', 'libsize_drop', 'sizeFactor', 'nCount_SCT', 'nFeature_SCT', 'SCT_snn_res.0.8', 'seurat_clusters', 'singler_annotation', 'ident'\n",
       "    uns: 'X_name', 'commot-cellchat-info'\n",
       "    obsm: 'PCA', 'TSNE', 'UMAP', 'commot-cellchat-sum-receiver', 'commot-cellchat-sum-sender', 'spatial'\n",
       "    layers: 'logcounts'\n",
       "    obsp: 'commot-cellchat-AREG-EGFR', 'commot-cellchat-CXCL', 'commot-cellchat-CXCL13-CXCR5', 'commot-cellchat-EGF', 'commot-cellchat-FASLG', 'commot-cellchat-FASLG-FAS', 'commot-cellchat-total-total'"
      ]
     },
     "execution_count": 74,
     "metadata": {},
     "output_type": "execute_result"
    }
   ],
   "source": [
    "adata_chuv_dis500_commot"
   ]
  },
  {
   "cell_type": "code",
   "execution_count": 86,
   "id": "7ea8bee5-35aa-4f43-8201-66eb1c90ce76",
   "metadata": {},
   "outputs": [
    {
     "ename": "KeyError",
     "evalue": "'commot_sender_vf-cellchat-adata_chuv_dis500_commot'",
     "output_type": "error",
     "traceback": [
      "\u001b[0;31m---------------------------------------------------------------------------\u001b[0m",
      "\u001b[0;31mKeyError\u001b[0m                                  Traceback (most recent call last)",
      "Cell \u001b[0;32mIn[86], line 1\u001b[0m\n\u001b[0;32m----> 1\u001b[0m \u001b[43mct\u001b[49m\u001b[38;5;241;43m.\u001b[39;49m\u001b[43mpl\u001b[49m\u001b[38;5;241;43m.\u001b[39;49m\u001b[43mplot_cell_communication\u001b[49m\u001b[43m(\u001b[49m\u001b[43madata_dis500\u001b[49m\u001b[43m,\u001b[49m\u001b[43m \u001b[49m\u001b[43mdatabase_name\u001b[49m\u001b[38;5;241;43m=\u001b[39;49m\u001b[38;5;124;43m'\u001b[39;49m\u001b[38;5;124;43mcellchat\u001b[39;49m\u001b[38;5;124;43m'\u001b[39;49m\u001b[43m,\u001b[49m\u001b[43m \u001b[49m\u001b[43mpathway_name\u001b[49m\u001b[38;5;241;43m=\u001b[39;49m\u001b[38;5;124;43m'\u001b[39;49m\u001b[38;5;124;43madata_chuv_dis500_commot\u001b[39;49m\u001b[38;5;124;43m'\u001b[39;49m\u001b[43m,\u001b[49m\u001b[43m \u001b[49m\u001b[43mplot_method\u001b[49m\u001b[38;5;241;43m=\u001b[39;49m\u001b[38;5;124;43m'\u001b[39;49m\u001b[38;5;124;43mgrid\u001b[39;49m\u001b[38;5;124;43m'\u001b[39;49m\u001b[43m,\u001b[49m\u001b[43m \u001b[49m\u001b[43mbackground_legend\u001b[49m\u001b[38;5;241;43m=\u001b[39;49m\u001b[38;5;28;43;01mFalse\u001b[39;49;00m\u001b[43m,\u001b[49m\n\u001b[1;32m      2\u001b[0m \u001b[43m    \u001b[49m\u001b[43mscale\u001b[49m\u001b[38;5;241;43m=\u001b[39;49m\u001b[38;5;241;43m0.00009\u001b[39;49m\u001b[43m,\u001b[49m\u001b[43m \u001b[49m\u001b[43mndsize\u001b[49m\u001b[38;5;241;43m=\u001b[39;49m\u001b[38;5;241;43m12\u001b[39;49m\u001b[43m,\u001b[49m\u001b[43m \u001b[49m\u001b[43mgrid_density\u001b[49m\u001b[38;5;241;43m=\u001b[39;49m\u001b[38;5;241;43m0.3\u001b[39;49m\u001b[43m,\u001b[49m\u001b[43m \u001b[49m\u001b[43mnormalize_v\u001b[49m\u001b[43m \u001b[49m\u001b[38;5;241;43m=\u001b[39;49m\u001b[43m \u001b[49m\u001b[38;5;28;43;01mTrue\u001b[39;49;00m\u001b[43m,\u001b[49m\u001b[43m \u001b[49m\u001b[43mnormalize_v_quantile\u001b[49m\u001b[38;5;241;43m=\u001b[39;49m\u001b[38;5;241;43m0.995\u001b[39;49m\u001b[43m)\u001b[49m\n",
      "File \u001b[0;32m/work/PRTNR/CHUV/DIR/rgottar1/spatial/env/astear/pkgs/miniforge3/envs/commot2/lib/python3.11/site-packages/commot/plotting/_plotting.py:170\u001b[0m, in \u001b[0;36mplot_cell_communication\u001b[0;34m(adata, database_name, pathway_name, lr_pair, keys, plot_method, background, background_legend, clustering, summary, cmap, cluster_cmap, pos_idx, ndsize, scale, normalize_v, normalize_v_quantile, arrow_color, grid_density, grid_knn, grid_scale, grid_thresh, grid_width, stream_density, stream_linewidth, stream_cutoff_perc, filename, ax)\u001b[0m\n\u001b[1;32m    168\u001b[0m     sum_name \u001b[38;5;241m=\u001b[39m \u001b[38;5;124m'\u001b[39m\u001b[38;5;124mtotal-total\u001b[39m\u001b[38;5;124m'\u001b[39m\n\u001b[1;32m    169\u001b[0m \u001b[38;5;28;01mif\u001b[39;00m summary \u001b[38;5;241m==\u001b[39m \u001b[38;5;124m'\u001b[39m\u001b[38;5;124msender\u001b[39m\u001b[38;5;124m'\u001b[39m:\n\u001b[0;32m--> 170\u001b[0m     V \u001b[38;5;241m=\u001b[39m \u001b[43madata\u001b[49m\u001b[38;5;241;43m.\u001b[39;49m\u001b[43mobsm\u001b[49m\u001b[43m[\u001b[49m\u001b[38;5;124;43m'\u001b[39;49m\u001b[38;5;124;43mcommot_sender_vf-\u001b[39;49m\u001b[38;5;124;43m'\u001b[39;49m\u001b[38;5;241;43m+\u001b[39;49m\u001b[43mvf_name\u001b[49m\u001b[43m]\u001b[49m[:,pos_idx]\n\u001b[1;32m    171\u001b[0m     signal_sum \u001b[38;5;241m=\u001b[39m adata\u001b[38;5;241m.\u001b[39mobsm[\u001b[38;5;124m'\u001b[39m\u001b[38;5;124mcommot-\u001b[39m\u001b[38;5;124m'\u001b[39m\u001b[38;5;241m+\u001b[39mdatabase_name\u001b[38;5;241m+\u001b[39m\u001b[38;5;124m\"\u001b[39m\u001b[38;5;124m-sum-sender\u001b[39m\u001b[38;5;124m\"\u001b[39m][\u001b[38;5;124m'\u001b[39m\u001b[38;5;124ms-\u001b[39m\u001b[38;5;124m'\u001b[39m\u001b[38;5;241m+\u001b[39msum_name]\n\u001b[1;32m    172\u001b[0m \u001b[38;5;28;01melif\u001b[39;00m summary \u001b[38;5;241m==\u001b[39m \u001b[38;5;124m'\u001b[39m\u001b[38;5;124mreceiver\u001b[39m\u001b[38;5;124m'\u001b[39m:\n",
      "File \u001b[0;32m/work/PRTNR/CHUV/DIR/rgottar1/spatial/env/astear/pkgs/miniforge3/envs/commot2/lib/python3.11/site-packages/anndata/_core/aligned_mapping.py:196\u001b[0m, in \u001b[0;36mAlignedActualMixin.__getitem__\u001b[0;34m(self, key)\u001b[0m\n\u001b[1;32m    195\u001b[0m \u001b[38;5;28;01mdef\u001b[39;00m \u001b[38;5;21m__getitem__\u001b[39m(\u001b[38;5;28mself\u001b[39m, key: \u001b[38;5;28mstr\u001b[39m) \u001b[38;5;241m-\u001b[39m\u001b[38;5;241m>\u001b[39m V:\n\u001b[0;32m--> 196\u001b[0m     \u001b[38;5;28;01mreturn\u001b[39;00m \u001b[38;5;28;43mself\u001b[39;49m\u001b[38;5;241;43m.\u001b[39;49m\u001b[43m_data\u001b[49m\u001b[43m[\u001b[49m\u001b[43mkey\u001b[49m\u001b[43m]\u001b[49m\n",
      "\u001b[0;31mKeyError\u001b[0m: 'commot_sender_vf-cellchat-adata_chuv_dis500_commot'"
     ]
    }
   ],
   "source": [
    "ct.pl.plot_cell_communication(adata_dis500, database_name='cellchat', pathway_name='adata_chuv_dis500_commot', plot_method='grid', background_legend=False,\n",
    "    scale=0.00009, ndsize=12, grid_density=0.3, normalize_v = True, normalize_v_quantile=0.995)"
   ]
  },
  {
   "cell_type": "code",
   "execution_count": null,
   "id": "b51f5156-6052-402a-97a5-06fed875a8cd",
   "metadata": {},
   "outputs": [],
   "source": [
    "chuvio_L1_1.obs['leiden'] = adata.obs['leiden']"
   ]
  },
  {
   "cell_type": "code",
   "execution_count": null,
   "id": "655801dc-55a5-41af-8461-d898cc75c5aa",
   "metadata": {},
   "outputs": [],
   "source": [
    "#Get the main gene interactions \n",
    "#"
   ]
  }
 ],
 "metadata": {
  "kernelspec": {
   "display_name": "commot2",
   "language": "python",
   "name": "commot2"
  },
  "language_info": {
   "codemirror_mode": {
    "name": "ipython",
    "version": 3
   },
   "file_extension": ".py",
   "mimetype": "text/x-python",
   "name": "python",
   "nbconvert_exporter": "python",
   "pygments_lexer": "ipython3",
   "version": "3.11.9"
  }
 },
 "nbformat": 4,
 "nbformat_minor": 5
}
