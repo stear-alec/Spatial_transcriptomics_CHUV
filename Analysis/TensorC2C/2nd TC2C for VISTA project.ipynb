{
 "cells": [
  {
   "cell_type": "markdown",
   "id": "a39417fa-267b-4053-9922-197967734b09",
   "metadata": {},
   "source": [
    "# Second Try for neutro VISTA Tc2c "
   ]
  },
  {
   "cell_type": "code",
   "execution_count": 3,
   "id": "23a6defa-1820-4582-92e1-ed7b8a468f01",
   "metadata": {},
   "outputs": [],
   "source": [
    "#Just try fixing it in general ... "
   ]
  },
  {
   "cell_type": "code",
   "execution_count": 1,
   "id": "c0e1ad29-f2ec-4ecf-b5c5-40c8ea141ebc",
   "metadata": {},
   "outputs": [
    {
     "name": "stderr",
     "output_type": "stream",
     "text": [
      "/work/PRTNR/CHUV/DIR/rgottar1/spatial/env/astear/pkgs/miniforge3/envs/CellPhoneDB/lib/python3.11/site-packages/tqdm/auto.py:21: TqdmWarning: IProgress not found. Please update jupyter and ipywidgets. See https://ipywidgets.readthedocs.io/en/stable/user_install.html\n",
      "  from .autonotebook import tqdm as notebook_tqdm\n",
      "/work/PRTNR/CHUV/DIR/rgottar1/spatial/env/astear/pkgs/miniforge3/envs/CellPhoneDB/lib/python3.11/site-packages/numba/np/ufunc/parallel.py:371: NumbaWarning: The TBB threading layer requires TBB version 2021 update 6 or later i.e., TBB_INTERFACE_VERSION >= 12060. Found TBB_INTERFACE_VERSION = 12050. The TBB threading layer is disabled.\n"
     ]
    }
   ],
   "source": [
    "import os\n",
    "import numpy as np\n",
    "import pandas as pd\n",
    "import scipy\n",
    "import seaborn as sns\n",
    "import matplotlib\n",
    "import anndata\n",
    "\n",
    "import scanpy as sc\n",
    "import cell2cell as c2c\n",
    "\n",
    "import liana as li\n",
    "import plotnine as p9\n",
    "\n",
    "from tqdm.auto import tqdm\n",
    "\n",
    "from tqdm.auto import tqdm\n",
    "from anndata import read_h5ad\n",
    "import sys"
   ]
  },
  {
   "cell_type": "code",
   "execution_count": 5,
   "id": "db76ed64-a78c-46a9-9fe8-4585a21ce274",
   "metadata": {},
   "outputs": [],
   "source": [
    "import warnings\n",
    "warnings.filterwarnings('ignore')"
   ]
  },
  {
   "cell_type": "code",
   "execution_count": 6,
   "id": "5636dcce-3172-44e8-bc28-269341453140",
   "metadata": {
    "scrolled": true
   },
   "outputs": [],
   "source": [
    "#import the neutro annotations\n",
    "neutro_annotations_L1_1 = pd.read_csv(\"/work/PRTNR/CHUV/DIR/rgottar1/spatial/env/xenium/results/celltype_annotation/singler_db/L1_1_neutrophils_l3.csv\")\n",
    "neutro_annotations_L1_2 = pd.read_csv(\"/work/PRTNR/CHUV/DIR/rgottar1/spatial/env/xenium/results/celltype_annotation/singler_db/L1_2_neutrophils_l3.csv\")\n",
    "neutro_annotations_L2_1 = pd.read_csv(\"/work/PRTNR/CHUV/DIR/rgottar1/spatial/env/xenium/results/celltype_annotation/singler_db/L2_1_neutrophils_l3.csv\")\n",
    "neutro_annotations_L3_1 = pd.read_csv(\"/work/PRTNR/CHUV/DIR/rgottar1/spatial/env/xenium/results/celltype_annotation/singler_db/L3_1_neutrophils_l3.csv\")\n",
    "neutro_annotations_L4_1 = pd.read_csv(\"/work/PRTNR/CHUV/DIR/rgottar1/spatial/env/xenium/results/celltype_annotation/singler_db/L4_1_neutrophils_l3.csv\")\n",
    "\n",
    "#set the index as the name of the cell \n",
    "neutro_annotations_L1_1.set_index(neutro_annotations_L1_1.columns[0], inplace=True)\n",
    "neutro_annotations_L1_2.set_index(neutro_annotations_L1_2.columns[0], inplace=True)\n",
    "neutro_annotations_L2_1.set_index(neutro_annotations_L2_1.columns[0], inplace=True)\n",
    "neutro_annotations_L3_1.set_index(neutro_annotations_L3_1.columns[0], inplace=True)\n",
    "neutro_annotations_L4_1.set_index(neutro_annotations_L4_1.columns[0], inplace=True)\n",
    "\n",
    "#modify the neutro annotations index -> exchanged the named of the indices to make up for the wrong axis in those fields. \n",
    "neutro_annotations_L1_1.index = \"L1_1_\" + neutro_annotations_L1_1.index\n",
    "neutro_annotations_L1_2.index = \"L1_2_\" + neutro_annotations_L1_2.index\n",
    "neutro_annotations_L2_1.index = \"L3_1_\" + neutro_annotations_L2_1.index\n",
    "neutro_annotations_L3_1.index = \"L2_1_\" + neutro_annotations_L3_1.index\n",
    "neutro_annotations_L4_1.index = \"L4_1_\" + neutro_annotations_L4_1.index\n",
    "\n",
    "#Reading in the original anndata reads : \n",
    "path_chuvio_L1_1 = \"/work/PRTNR/CHUV/DIR/rgottar1/spatial/env/xenium/xenium_objs/anndata/chuvio_L1_1.h5ad\"\n",
    "chuvio_L1_1 = sc.read_h5ad(path_chuvio_L1_1)\n",
    "\n",
    "path_chuvio_L1_2 = \"/work/PRTNR/CHUV/DIR/rgottar1/spatial/env/xenium/xenium_objs/anndata/chuvio_L1_2.h5ad\"\n",
    "chuvio_L1_2 = sc.read_h5ad(path_chuvio_L1_2)\n",
    "\n",
    "path_chuvio_L2_1 = \"/work/PRTNR/CHUV/DIR/rgottar1/spatial/env/xenium/xenium_objs/anndata/chuvio_L2_1.h5ad\"\n",
    "chuvio_L2_1 = sc.read_h5ad(path_chuvio_L2_1)\n",
    "\n",
    "path_chuvio_L3_1 = \"/work/PRTNR/CHUV/DIR/rgottar1/spatial/env/xenium/xenium_objs/anndata/chuvio_L3_1.h5ad\"\n",
    "chuvio_L3_1 = sc.read_h5ad(path_chuvio_L3_1)\n",
    "\n",
    "path_chuvio_L4_1 = \"/work/PRTNR/CHUV/DIR/rgottar1/spatial/env/xenium/xenium_objs/anndata/chuvio_L4_1.h5ad\"\n",
    "chuvio_L4_1 = sc.read_h5ad(path_chuvio_L4_1)"
   ]
  },
  {
   "cell_type": "markdown",
   "id": "e5787af3-7329-47fe-a476-0bcac243a66a",
   "metadata": {},
   "source": [
    "### add sample code and concatenate the samples"
   ]
  },
  {
   "cell_type": "code",
   "execution_count": 8,
   "id": "8298f014-a499-476c-8d99-7e4a9a1139af",
   "metadata": {},
   "outputs": [],
   "source": [
    "# add the sample code \n",
    "chuvio_L1_1.obs[\"sample\"] = \"L1_1\"\n",
    "chuvio_L1_2.obs[\"sample\"] = \"L1_2\"\n",
    "chuvio_L2_1.obs[\"sample\"] = \"L2_1\"\n",
    "chuvio_L3_1.obs[\"sample\"] = \"L3_1\"\n",
    "chuvio_L4_1.obs[\"sample\"] = \"L4_1\""
   ]
  },
  {
   "cell_type": "code",
   "execution_count": 9,
   "id": "222be517-aed1-47ac-a696-5ddc25973ecb",
   "metadata": {},
   "outputs": [],
   "source": [
    "#set the context column\n",
    "chuvio_L1_1.obs[\"L4vsOthers\"] = \"others\"\n",
    "chuvio_L1_2.obs[\"L4vsOthers\"] = \"others\"\n",
    "chuvio_L2_1.obs[\"L4vsOthers\"] = \"others\"\n",
    "chuvio_L3_1.obs[\"L4vsOthers\"] = \"others\"\n",
    "chuvio_L4_1.obs[\"L4vsOthers\"] = \"L4\""
   ]
  },
  {
   "cell_type": "code",
   "execution_count": 10,
   "id": "6d8485e9-75ce-46f4-a112-817541741b8d",
   "metadata": {},
   "outputs": [],
   "source": [
    "#concatenate the samples :\n",
    "adata = anndata.concat([chuvio_L1_1, chuvio_L1_2, chuvio_L2_1, chuvio_L3_1, chuvio_L4_1], index_unique=None, join='outer')"
   ]
  },
  {
   "cell_type": "code",
   "execution_count": 14,
   "id": "e3d2d021-d8d3-44fa-8135-b6ae9d1e8329",
   "metadata": {},
   "outputs": [
    {
     "data": {
      "text/plain": [
       "AnnData object with n_obs × n_vars = 1236776 × 335\n",
       "    obs: 'orig.ident', 'nCount_originalexp', 'nFeature_originalexp', 'cell_id', 'x_centroid', 'y_centroid', 'transcript_counts', 'control_probe_counts', 'control_codeword_counts', 'unassigned_codeword_counts', 'deprecated_codeword_counts', 'total_counts', 'cell_area', 'nucleus_area', 'sample_id', 'sum', 'detected', 'subsets_Mito_sum', 'subsets_Mito_detected', 'subsets_Mito_percent', 'total', 'libsize_drop', 'sizeFactor', 'nCount_SCT', 'nFeature_SCT', 'SCT_snn_res.0.8', 'seurat_clusters', 'singler_annotation', 'ident', 'sample', 'L4vsOthers'\n",
       "    uns: 'liana_res'\n",
       "    obsm: 'PCA', 'TSNE', 'UMAP'\n",
       "    layers: 'logcounts'"
      ]
     },
     "execution_count": 14,
     "metadata": {},
     "output_type": "execute_result"
    }
   ],
   "source": [
    "adata"
   ]
  },
  {
   "cell_type": "markdown",
   "id": "d1781c60-d862-4123-be85-61f9bd96fad7",
   "metadata": {
    "jp-MarkdownHeadingCollapsed": true
   },
   "source": [
    "### OUT dot plot"
   ]
  },
  {
   "cell_type": "code",
   "execution_count": 45,
   "id": "c1d91cbd-b7c2-4928-b3ac-d4d8f35963c4",
   "metadata": {},
   "outputs": [
    {
     "name": "stderr",
     "output_type": "stream",
     "text": [
      "Fontsize 0.00 < 1.0 pt not allowed by FreeType. Setting fontsize = 1 pt\n",
      "Fontsize 0.00 < 1.0 pt not allowed by FreeType. Setting fontsize = 1 pt\n"
     ]
    },
    {
     "data": {
      "image/png": "[encoded data removed]",
      "text/plain": [
       "<Figure size 1100x800 with 4 Axes>"
      ]
     },
     "metadata": {
      "image/png": {
       "height": 800,
       "width": 1100
      }
     },
     "output_type": "display_data"
    },
    {
     "data": {
      "text/plain": [
       "<Figure Size: (1100 x 800)>"
      ]
     },
     "execution_count": 45,
     "metadata": {},
     "output_type": "execute_result"
    }
   ],
   "source": [
    "plot = (li.pl.dotplot_by_sample(adata=adata,\n",
    "                               colour='magnitude_rank',\n",
    "                               size='specificity_rank',\n",
    "                               source_labels=[\"Tu_L1_SFTPB\", \"B cells\"],\n",
    "                               target_labels=[\"Tu_L1_SFTPB\", \"B cells\"],\n",
    "                               ligand_complex = ['VIM', 'VEGFA', 'CDH1', 'CXCL12'],\n",
    "                               receptor_complex= ['CD44', 'IFITM1', 'EGFR', 'CD19'],\n",
    "                               sample_key='sample',\n",
    "                               inverse_colour=True,\n",
    "                               inverse_size=True,\n",
    "                               figure_size=(11, 8),\n",
    "                               size_range=(1, 6),\n",
    "                               ) +\n",
    "         p9.labs(color='Magnitude rank', size='Specificity Rank'))\n",
    "\n",
    "plot.save(output_folder + '/Dotplot-by-sample.pdf', height=8, width=11)\n",
    "plot"
   ]
  },
  {
   "cell_type": "markdown",
   "id": "db76ee50-be56-426d-873f-97d16af21307",
   "metadata": {},
   "source": [
    "## 2.6 RUN Liana by sample "
   ]
  },
  {
   "cell_type": "markdown",
   "id": "239e0912-4243-4fb7-8365-349cef67af9d",
   "metadata": {},
   "source": [
    "## 1 Initial Setup"
   ]
  },
  {
   "cell_type": "code",
   "execution_count": 12,
   "id": "52706c89-4184-4bd0-b77e-bb441f3ec42a",
   "metadata": {},
   "outputs": [
    {
     "name": "stdout",
     "output_type": "stream",
     "text": [
      "/work/PRTNR/CHUV/DIR/rgottar1/spatial/env/astear/Analysis/TensorC2C/data/tc2c-outputs/ already exists.\n"
     ]
    }
   ],
   "source": [
    "data_folder = '/work/PRTNR/CHUV/DIR/rgottar1/spatial/env/astearAnalysis/TensorC2C/data/liana-outputs/'\n",
    "output_folder = '/work/PRTNR/CHUV/DIR/rgottar1/spatial/env/astear/Analysis/TensorC2C/data/tc2c-outputs/'\n",
    "c2c.io.directories.create_directory(output_folder)"
   ]
  },
  {
   "cell_type": "code",
   "execution_count": 15,
   "id": "e4e396fe-30f3-4216-b806-a03b31d5a380",
   "metadata": {
    "scrolled": true
   },
   "outputs": [
    {
     "name": "stderr",
     "output_type": "stream",
     "text": [
      "Now running: L4_1: 100%|██████████| 5/5 [03:40<00:00, 44.01s/it]\n"
     ]
    }
   ],
   "source": [
    "li.mt.rank_aggregate.by_sample(adata,\n",
    "                                   sample_key='sample',\n",
    "                                   groupby='singler_annotation',\n",
    "                                   resource_name = 'consensus',\n",
    "                                   expr_prop=0.1, # must be expressed in expr_prop fraction of cells\n",
    "                                   min_cells = 5,\n",
    "                                   n_perms = 100,\n",
    "                                   use_raw = False, # run on log- and library-normalized counts\n",
    "                                   verbose = True,\n",
    "                                   inplace = True\n",
    "                                  )"
   ]
  },
  {
   "cell_type": "code",
   "execution_count": 16,
   "id": "28224c24-1dfe-4910-afb4-8926b2a73ee7",
   "metadata": {},
   "outputs": [],
   "source": [
    "liana_res = adata.uns['liana_res']"
   ]
  },
  {
   "cell_type": "markdown",
   "id": "40667791-8c8e-44d3-a7a4-bfad6a0e1ac4",
   "metadata": {},
   "source": [
    "## 3.2 Create 4D-Communication Tensor"
   ]
  },
  {
   "cell_type": "markdown",
   "id": "7491f43f-9ffc-436d-b48b-f1f750e2340e",
   "metadata": {},
   "source": [
    "Specifying the context. In the original they have 12 samples and the first letter tells them if it is Control or sick, so the following ordering operation allows it to setup the order of samples depending on the context. We jsut want to see the dfference between L4 that has two LSE and the others. "
   ]
  },
  {
   "cell_type": "code",
   "execution_count": 36,
   "id": "840b244c-cbc0-4893-87b2-beee7a23a3ee",
   "metadata": {},
   "outputs": [],
   "source": [
    "sorted_samples = sorted(adata.obs['sample'].unique())"
   ]
  },
  {
   "cell_type": "code",
   "execution_count": 37,
   "id": "a17ca61a-05fe-41c7-9cba-39d5374d8150",
   "metadata": {},
   "outputs": [
    {
     "data": {
      "text/plain": [
       "['L1_1', 'L1_2', 'L2_1', 'L3_1', 'L4_1']"
      ]
     },
     "execution_count": 37,
     "metadata": {},
     "output_type": "execute_result"
    }
   ],
   "source": [
    "sorted_samples"
   ]
  },
  {
   "cell_type": "markdown",
   "id": "65e5536b-4e02-41e5-9a63-0785f2fe2988",
   "metadata": {},
   "source": [
    "## 3.3 Generate tensor"
   ]
  },
  {
   "cell_type": "markdown",
   "id": "788230a1-dfb3-406d-904b-990f9ad440db",
   "metadata": {},
   "source": [
    "To generate the 4D-communication tensor, we will to create matrices with the communication scores for each of the ligand-receptor pairs within the same sample, then generate a 3D tensor for each sample, and finally concatenate them to form the 4D tensor.\n",
    "\n",
    "Briefly, we use the LIANA dataframe and communication scores to organize them as follows:\n",
    "-> If you used a pipeline that generated negative scores, replace these with 0,  Otherwise, by default, Tensor-cell2cell will treat these as NaN.\n",
    "-> ..."
   ]
  },
  {
   "cell_type": "code",
   "execution_count": 38,
   "id": "f61d062f-3156-47df-bbc3-3eb3fa714d32",
   "metadata": {},
   "outputs": [
    {
     "data": {
      "text/plain": [
       "<1236776x335 sparse matrix of type '<class 'numpy.float64'>'\n",
       "\twith 61561560 stored elements in Compressed Sparse Row format>"
      ]
     },
     "execution_count": 38,
     "metadata": {},
     "output_type": "execute_result"
    }
   ],
   "source": [
    "adata.X"
   ]
  },
  {
   "cell_type": "code",
   "execution_count": 39,
   "id": "e18e686d-d8e5-45c1-bac5-3f2a1d7276bc",
   "metadata": {},
   "outputs": [
    {
     "name": "stderr",
     "output_type": "stream",
     "text": [
      "100%|██████████| 5/5 [00:01<00:00,  4.21it/s]\n"
     ]
    }
   ],
   "source": [
    "#Here we use the magnitude score but we could use the specificity score, in score_key. Also try lowering the outer_fraction value for rare occurences\n",
    "tensor = li.multi.to_tensor_c2c(liana_res=liana_res, # LIANA's dataframe containing results\n",
    "                                sample_key='sample', # Column name of the samples\n",
    "                                source_key='source', # Column name of the sender cells\n",
    "                                target_key='target', # Column name of the receiver cells\n",
    "                                ligand_key='ligand_complex', # Column name of the ligands\n",
    "                                receptor_key='receptor_complex', # Column name of the receptors\n",
    "                                score_key='magnitude_rank', # Column name of the communication scores to use\n",
    "                                non_negative = True, # set negative values to 0\n",
    "                                inverse_fun=lambda x: 1 - x, # Transformation function\n",
    "                                non_expressed_fill=None, # Value to replace missing values with\n",
    "                                how='outer', # What to include across all samples\n",
    "                                lr_fill=np.nan, # What to fill missing LRs with\n",
    "                                cell_fill = np.nan, # What to fill missing cell types with\n",
    "                                outer_fraction=1/10., # Fraction of samples as threshold to include cells and LR pairs.\n",
    "                                lr_sep='^', # How to separate ligand and receptor names to name LR pair\n",
    "                                context_order=sorted_samples, # Order to store the contexts in the tensor\n",
    "                                sort_elements=True # Whether sorting alphabetically element names of each tensor dim. Does not apply for context order if context_order is passed.\n",
    "                               )"
   ]
  },
  {
   "cell_type": "code",
   "execution_count": 40,
   "id": "a2455705-3391-4a4d-8492-2ed5d1be534a",
   "metadata": {},
   "outputs": [],
   "source": [
    "from collections import defaultdict\n",
    "\n",
    "element_dict = defaultdict(lambda: 'Unknown')"
   ]
  },
  {
   "cell_type": "code",
   "execution_count": 41,
   "id": "f2e8edda-d4d5-4372-9caf-0c5a88253777",
   "metadata": {},
   "outputs": [],
   "source": [
    "#Here the goal is to set the distance code as the context !\n",
    "context_dict = adata.obs.set_index('sample')['L4vsOthers'].sort_values().to_dict()"
   ]
  },
  {
   "cell_type": "code",
   "execution_count": 42,
   "id": "40cc1e44-8f1d-4092-9461-07e52bc23e4d",
   "metadata": {},
   "outputs": [],
   "source": [
    "context_dict = element_dict.copy()"
   ]
  },
  {
   "cell_type": "code",
   "execution_count": 43,
   "id": "2a368c73-01d3-4a08-8a90-9d994e5817c1",
   "metadata": {},
   "outputs": [
    {
     "data": {
      "text/plain": [
       "['L1_1', 'L1_2', 'L2_1', 'L3_1', 'L4_1']"
      ]
     },
     "execution_count": 43,
     "metadata": {},
     "output_type": "execute_result"
    }
   ],
   "source": [
    "sorted_samples"
   ]
  },
  {
   "cell_type": "code",
   "execution_count": 46,
   "id": "c140ff28-9193-42b9-8264-ba2ee7cb96d6",
   "metadata": {},
   "outputs": [],
   "source": [
    "# THIS IS THE ONLY SPACE WHERE YOU SHOULD BE SETTING YOUR CONTEXT, BY CREATING A SUPER SET OF YOUR SAMPLES !!!!!! "
   ]
  },
  {
   "cell_type": "code",
   "execution_count": 47,
   "id": "db92f204-0eb2-402b-b325-650dd36376de",
   "metadata": {},
   "outputs": [],
   "source": [
    "context_dict.update({'L1_1' : 'others',\n",
    "                     'L1_2' : 'others',\n",
    "                     'L2_1' : 'others',\n",
    "                     'L3_1' : 'others',\n",
    "                     'L4' : 'L4',\n",
    "                     })\n",
    "dimensions_dict = [context_dict, None, None, None]"
   ]
  },
  {
   "cell_type": "code",
   "execution_count": null,
   "id": "1286d61a-0d70-4d3d-aa74-3957d3e2beec",
   "metadata": {},
   "outputs": [],
   "source": [
    "#liana_res"
   ]
  },
  {
   "cell_type": "markdown",
   "id": "83a912dd-f29c-4bfb-a8ab-8aa75c74f694",
   "metadata": {},
   "source": [
    "## 3.5 Prepare Tensor Metadata -> Selecting the context"
   ]
  },
  {
   "cell_type": "code",
   "execution_count": 48,
   "id": "23afc67b-9054-487b-822d-254338d2cc6e",
   "metadata": {},
   "outputs": [
    {
     "data": {
      "text/html": [
       "<div>\n",
       "<style scoped>\n",
       "    .dataframe tbody tr th:only-of-type {\n",
       "        vertical-align: middle;\n",
       "    }\n",
       "\n",
       "    .dataframe tbody tr th {\n",
       "        vertical-align: top;\n",
       "    }\n",
       "\n",
       "    .dataframe thead th {\n",
       "        text-align: right;\n",
       "    }\n",
       "</style>\n",
       "<table border=\"1\" class=\"dataframe\">\n",
       "  <thead>\n",
       "    <tr style=\"text-align: right;\">\n",
       "      <th></th>\n",
       "      <th>orig.ident</th>\n",
       "      <th>nCount_originalexp</th>\n",
       "      <th>nFeature_originalexp</th>\n",
       "      <th>cell_id</th>\n",
       "      <th>x_centroid</th>\n",
       "      <th>y_centroid</th>\n",
       "      <th>transcript_counts</th>\n",
       "      <th>control_probe_counts</th>\n",
       "      <th>control_codeword_counts</th>\n",
       "      <th>unassigned_codeword_counts</th>\n",
       "      <th>...</th>\n",
       "      <th>libsize_drop</th>\n",
       "      <th>sizeFactor</th>\n",
       "      <th>nCount_SCT</th>\n",
       "      <th>nFeature_SCT</th>\n",
       "      <th>SCT_snn_res.0.8</th>\n",
       "      <th>seurat_clusters</th>\n",
       "      <th>singler_annotation</th>\n",
       "      <th>ident</th>\n",
       "      <th>sample</th>\n",
       "      <th>L4vsOthers</th>\n",
       "    </tr>\n",
       "  </thead>\n",
       "  <tbody>\n",
       "    <tr>\n",
       "      <th>L1_1_aaaadbga-1</th>\n",
       "      <td>L1</td>\n",
       "      <td>413.0</td>\n",
       "      <td>103</td>\n",
       "      <td>L1_1_aaaadbga-1</td>\n",
       "      <td>1186.546265</td>\n",
       "      <td>1686.810181</td>\n",
       "      <td>413</td>\n",
       "      <td>1</td>\n",
       "      <td>0</td>\n",
       "      <td>0</td>\n",
       "      <td>...</td>\n",
       "      <td>False</td>\n",
       "      <td>2.515645</td>\n",
       "      <td>143.0</td>\n",
       "      <td>52</td>\n",
       "      <td>9</td>\n",
       "      <td>9</td>\n",
       "      <td>Fibroblasts</td>\n",
       "      <td>9</td>\n",
       "      <td>L1_1</td>\n",
       "      <td>others</td>\n",
       "    </tr>\n",
       "    <tr>\n",
       "      <th>L1_1_aaaajnma-1</th>\n",
       "      <td>L1</td>\n",
       "      <td>253.0</td>\n",
       "      <td>86</td>\n",
       "      <td>L1_1_aaaajnma-1</td>\n",
       "      <td>1194.922241</td>\n",
       "      <td>1699.988892</td>\n",
       "      <td>253</td>\n",
       "      <td>1</td>\n",
       "      <td>0</td>\n",
       "      <td>0</td>\n",
       "      <td>...</td>\n",
       "      <td>False</td>\n",
       "      <td>1.541061</td>\n",
       "      <td>159.0</td>\n",
       "      <td>78</td>\n",
       "      <td>9</td>\n",
       "      <td>9</td>\n",
       "      <td>Fibroblasts</td>\n",
       "      <td>9</td>\n",
       "      <td>L1_1</td>\n",
       "      <td>others</td>\n",
       "    </tr>\n",
       "    <tr>\n",
       "      <th>L1_1_aaadecno-1</th>\n",
       "      <td>L1</td>\n",
       "      <td>176.0</td>\n",
       "      <td>66</td>\n",
       "      <td>L1_1_aaadecno-1</td>\n",
       "      <td>1196.921997</td>\n",
       "      <td>1708.868652</td>\n",
       "      <td>176</td>\n",
       "      <td>0</td>\n",
       "      <td>0</td>\n",
       "      <td>0</td>\n",
       "      <td>...</td>\n",
       "      <td>False</td>\n",
       "      <td>1.072042</td>\n",
       "      <td>157.0</td>\n",
       "      <td>66</td>\n",
       "      <td>9</td>\n",
       "      <td>9</td>\n",
       "      <td>Pericytes</td>\n",
       "      <td>9</td>\n",
       "      <td>L1_1</td>\n",
       "      <td>others</td>\n",
       "    </tr>\n",
       "    <tr>\n",
       "      <th>L1_1_aaafkiae-1</th>\n",
       "      <td>L1</td>\n",
       "      <td>293.0</td>\n",
       "      <td>111</td>\n",
       "      <td>L1_1_aaafkiae-1</td>\n",
       "      <td>1204.801636</td>\n",
       "      <td>1698.712280</td>\n",
       "      <td>293</td>\n",
       "      <td>1</td>\n",
       "      <td>0</td>\n",
       "      <td>0</td>\n",
       "      <td>...</td>\n",
       "      <td>False</td>\n",
       "      <td>1.784707</td>\n",
       "      <td>155.0</td>\n",
       "      <td>88</td>\n",
       "      <td>6</td>\n",
       "      <td>6</td>\n",
       "      <td>Fibroblasts</td>\n",
       "      <td>6</td>\n",
       "      <td>L1_1</td>\n",
       "      <td>others</td>\n",
       "    </tr>\n",
       "    <tr>\n",
       "      <th>L1_1_aaahijio-1</th>\n",
       "      <td>L1</td>\n",
       "      <td>175.0</td>\n",
       "      <td>73</td>\n",
       "      <td>L1_1_aaahijio-1</td>\n",
       "      <td>1209.148804</td>\n",
       "      <td>1690.650635</td>\n",
       "      <td>175</td>\n",
       "      <td>0</td>\n",
       "      <td>0</td>\n",
       "      <td>1</td>\n",
       "      <td>...</td>\n",
       "      <td>False</td>\n",
       "      <td>1.065951</td>\n",
       "      <td>154.0</td>\n",
       "      <td>72</td>\n",
       "      <td>8</td>\n",
       "      <td>8</td>\n",
       "      <td>Pericytes</td>\n",
       "      <td>8</td>\n",
       "      <td>L1_1</td>\n",
       "      <td>others</td>\n",
       "    </tr>\n",
       "    <tr>\n",
       "      <th>...</th>\n",
       "      <td>...</td>\n",
       "      <td>...</td>\n",
       "      <td>...</td>\n",
       "      <td>...</td>\n",
       "      <td>...</td>\n",
       "      <td>...</td>\n",
       "      <td>...</td>\n",
       "      <td>...</td>\n",
       "      <td>...</td>\n",
       "      <td>...</td>\n",
       "      <td>...</td>\n",
       "      <td>...</td>\n",
       "      <td>...</td>\n",
       "      <td>...</td>\n",
       "      <td>...</td>\n",
       "      <td>...</td>\n",
       "      <td>...</td>\n",
       "      <td>...</td>\n",
       "      <td>...</td>\n",
       "      <td>...</td>\n",
       "      <td>...</td>\n",
       "    </tr>\n",
       "    <tr>\n",
       "      <th>L4_1_oilnnjie-1</th>\n",
       "      <td>L4</td>\n",
       "      <td>162.0</td>\n",
       "      <td>77</td>\n",
       "      <td>L4_1_oilnnjie-1</td>\n",
       "      <td>7791.851562</td>\n",
       "      <td>5969.610352</td>\n",
       "      <td>165</td>\n",
       "      <td>1</td>\n",
       "      <td>0</td>\n",
       "      <td>0</td>\n",
       "      <td>...</td>\n",
       "      <td>False</td>\n",
       "      <td>1.107579</td>\n",
       "      <td>123.0</td>\n",
       "      <td>77</td>\n",
       "      <td>16</td>\n",
       "      <td>16</td>\n",
       "      <td>Granulocytes</td>\n",
       "      <td>16</td>\n",
       "      <td>L4_1</td>\n",
       "      <td>L4</td>\n",
       "    </tr>\n",
       "    <tr>\n",
       "      <th>L4_1_oilnoiin-1</th>\n",
       "      <td>L4</td>\n",
       "      <td>157.0</td>\n",
       "      <td>70</td>\n",
       "      <td>L4_1_oilnoiin-1</td>\n",
       "      <td>7790.732422</td>\n",
       "      <td>5962.326172</td>\n",
       "      <td>157</td>\n",
       "      <td>0</td>\n",
       "      <td>0</td>\n",
       "      <td>1</td>\n",
       "      <td>...</td>\n",
       "      <td>False</td>\n",
       "      <td>1.073395</td>\n",
       "      <td>123.0</td>\n",
       "      <td>70</td>\n",
       "      <td>15</td>\n",
       "      <td>15</td>\n",
       "      <td>DC_1</td>\n",
       "      <td>15</td>\n",
       "      <td>L4_1</td>\n",
       "      <td>L4</td>\n",
       "    </tr>\n",
       "    <tr>\n",
       "      <th>L4_1_oiloajgk-1</th>\n",
       "      <td>L4</td>\n",
       "      <td>198.0</td>\n",
       "      <td>78</td>\n",
       "      <td>L4_1_oiloajgk-1</td>\n",
       "      <td>7784.906250</td>\n",
       "      <td>5955.801270</td>\n",
       "      <td>198</td>\n",
       "      <td>1</td>\n",
       "      <td>0</td>\n",
       "      <td>0</td>\n",
       "      <td>...</td>\n",
       "      <td>False</td>\n",
       "      <td>1.353708</td>\n",
       "      <td>128.0</td>\n",
       "      <td>73</td>\n",
       "      <td>3</td>\n",
       "      <td>3</td>\n",
       "      <td>Granulocytes</td>\n",
       "      <td>3</td>\n",
       "      <td>L4_1</td>\n",
       "      <td>L4</td>\n",
       "    </tr>\n",
       "    <tr>\n",
       "      <th>L4_1_oilocpdb-1</th>\n",
       "      <td>L4</td>\n",
       "      <td>57.0</td>\n",
       "      <td>39</td>\n",
       "      <td>L4_1_oilocpdb-1</td>\n",
       "      <td>7779.752930</td>\n",
       "      <td>5969.401855</td>\n",
       "      <td>57</td>\n",
       "      <td>0</td>\n",
       "      <td>0</td>\n",
       "      <td>0</td>\n",
       "      <td>...</td>\n",
       "      <td>False</td>\n",
       "      <td>0.389704</td>\n",
       "      <td>101.0</td>\n",
       "      <td>39</td>\n",
       "      <td>2</td>\n",
       "      <td>2</td>\n",
       "      <td>DC_1</td>\n",
       "      <td>2</td>\n",
       "      <td>L4_1</td>\n",
       "      <td>L4</td>\n",
       "    </tr>\n",
       "    <tr>\n",
       "      <th>L4_1_oilocpem-1</th>\n",
       "      <td>L4</td>\n",
       "      <td>206.0</td>\n",
       "      <td>53</td>\n",
       "      <td>L4_1_oilocpem-1</td>\n",
       "      <td>7779.384277</td>\n",
       "      <td>5982.461426</td>\n",
       "      <td>206</td>\n",
       "      <td>0</td>\n",
       "      <td>0</td>\n",
       "      <td>0</td>\n",
       "      <td>...</td>\n",
       "      <td>False</td>\n",
       "      <td>1.408403</td>\n",
       "      <td>128.0</td>\n",
       "      <td>51</td>\n",
       "      <td>11</td>\n",
       "      <td>11</td>\n",
       "      <td>Granulocytes</td>\n",
       "      <td>11</td>\n",
       "      <td>L4_1</td>\n",
       "      <td>L4</td>\n",
       "    </tr>\n",
       "  </tbody>\n",
       "</table>\n",
       "<p>1236776 rows × 31 columns</p>\n",
       "</div>"
      ],
      "text/plain": [
       "                orig.ident  nCount_originalexp  nFeature_originalexp  \\\n",
       "L1_1_aaaadbga-1         L1               413.0                   103   \n",
       "L1_1_aaaajnma-1         L1               253.0                    86   \n",
       "L1_1_aaadecno-1         L1               176.0                    66   \n",
       "L1_1_aaafkiae-1         L1               293.0                   111   \n",
       "L1_1_aaahijio-1         L1               175.0                    73   \n",
       "...                    ...                 ...                   ...   \n",
       "L4_1_oilnnjie-1         L4               162.0                    77   \n",
       "L4_1_oilnoiin-1         L4               157.0                    70   \n",
       "L4_1_oiloajgk-1         L4               198.0                    78   \n",
       "L4_1_oilocpdb-1         L4                57.0                    39   \n",
       "L4_1_oilocpem-1         L4               206.0                    53   \n",
       "\n",
       "                         cell_id   x_centroid   y_centroid  transcript_counts  \\\n",
       "L1_1_aaaadbga-1  L1_1_aaaadbga-1  1186.546265  1686.810181                413   \n",
       "L1_1_aaaajnma-1  L1_1_aaaajnma-1  1194.922241  1699.988892                253   \n",
       "L1_1_aaadecno-1  L1_1_aaadecno-1  1196.921997  1708.868652                176   \n",
       "L1_1_aaafkiae-1  L1_1_aaafkiae-1  1204.801636  1698.712280                293   \n",
       "L1_1_aaahijio-1  L1_1_aaahijio-1  1209.148804  1690.650635                175   \n",
       "...                          ...          ...          ...                ...   \n",
       "L4_1_oilnnjie-1  L4_1_oilnnjie-1  7791.851562  5969.610352                165   \n",
       "L4_1_oilnoiin-1  L4_1_oilnoiin-1  7790.732422  5962.326172                157   \n",
       "L4_1_oiloajgk-1  L4_1_oiloajgk-1  7784.906250  5955.801270                198   \n",
       "L4_1_oilocpdb-1  L4_1_oilocpdb-1  7779.752930  5969.401855                 57   \n",
       "L4_1_oilocpem-1  L4_1_oilocpem-1  7779.384277  5982.461426                206   \n",
       "\n",
       "                 control_probe_counts  control_codeword_counts  \\\n",
       "L1_1_aaaadbga-1                     1                        0   \n",
       "L1_1_aaaajnma-1                     1                        0   \n",
       "L1_1_aaadecno-1                     0                        0   \n",
       "L1_1_aaafkiae-1                     1                        0   \n",
       "L1_1_aaahijio-1                     0                        0   \n",
       "...                               ...                      ...   \n",
       "L4_1_oilnnjie-1                     1                        0   \n",
       "L4_1_oilnoiin-1                     0                        0   \n",
       "L4_1_oiloajgk-1                     1                        0   \n",
       "L4_1_oilocpdb-1                     0                        0   \n",
       "L4_1_oilocpem-1                     0                        0   \n",
       "\n",
       "                 unassigned_codeword_counts  ...  libsize_drop  sizeFactor  \\\n",
       "L1_1_aaaadbga-1                           0  ...         False    2.515645   \n",
       "L1_1_aaaajnma-1                           0  ...         False    1.541061   \n",
       "L1_1_aaadecno-1                           0  ...         False    1.072042   \n",
       "L1_1_aaafkiae-1                           0  ...         False    1.784707   \n",
       "L1_1_aaahijio-1                           1  ...         False    1.065951   \n",
       "...                                     ...  ...           ...         ...   \n",
       "L4_1_oilnnjie-1                           0  ...         False    1.107579   \n",
       "L4_1_oilnoiin-1                           1  ...         False    1.073395   \n",
       "L4_1_oiloajgk-1                           0  ...         False    1.353708   \n",
       "L4_1_oilocpdb-1                           0  ...         False    0.389704   \n",
       "L4_1_oilocpem-1                           0  ...         False    1.408403   \n",
       "\n",
       "                 nCount_SCT  nFeature_SCT SCT_snn_res.0.8  seurat_clusters  \\\n",
       "L1_1_aaaadbga-1       143.0            52               9                9   \n",
       "L1_1_aaaajnma-1       159.0            78               9                9   \n",
       "L1_1_aaadecno-1       157.0            66               9                9   \n",
       "L1_1_aaafkiae-1       155.0            88               6                6   \n",
       "L1_1_aaahijio-1       154.0            72               8                8   \n",
       "...                     ...           ...             ...              ...   \n",
       "L4_1_oilnnjie-1       123.0            77              16               16   \n",
       "L4_1_oilnoiin-1       123.0            70              15               15   \n",
       "L4_1_oiloajgk-1       128.0            73               3                3   \n",
       "L4_1_oilocpdb-1       101.0            39               2                2   \n",
       "L4_1_oilocpem-1       128.0            51              11               11   \n",
       "\n",
       "                 singler_annotation  ident  sample  L4vsOthers  \n",
       "L1_1_aaaadbga-1         Fibroblasts      9    L1_1      others  \n",
       "L1_1_aaaajnma-1         Fibroblasts      9    L1_1      others  \n",
       "L1_1_aaadecno-1           Pericytes      9    L1_1      others  \n",
       "L1_1_aaafkiae-1         Fibroblasts      6    L1_1      others  \n",
       "L1_1_aaahijio-1           Pericytes      8    L1_1      others  \n",
       "...                             ...    ...     ...         ...  \n",
       "L4_1_oilnnjie-1        Granulocytes     16    L4_1          L4  \n",
       "L4_1_oilnoiin-1                DC_1     15    L4_1          L4  \n",
       "L4_1_oiloajgk-1        Granulocytes      3    L4_1          L4  \n",
       "L4_1_oilocpdb-1                DC_1      2    L4_1          L4  \n",
       "L4_1_oilocpem-1        Granulocytes     11    L4_1          L4  \n",
       "\n",
       "[1236776 rows x 31 columns]"
      ]
     },
     "execution_count": 48,
     "metadata": {},
     "output_type": "execute_result"
    }
   ],
   "source": [
    "adata.obs"
   ]
  },
  {
   "cell_type": "code",
   "execution_count": 49,
   "id": "9a90608f-5105-4d5d-b5db-b98716c0021f",
   "metadata": {},
   "outputs": [],
   "source": [
    "meta_tensor = c2c.tensor.generate_tensor_metadata(interaction_tensor=tensor,\n",
    "                                              metadata_dicts=[context_dict, None, None, None],\n",
    "                                              fill_with_order_elements=True\n",
    "                                             )"
   ]
  },
  {
   "cell_type": "code",
   "execution_count": 50,
   "id": "4d3dfa7c-d7c8-49d5-ab96-06a2c5f52e7c",
   "metadata": {},
   "outputs": [
    {
     "data": {
      "text/plain": [
       "'2.2.0'"
      ]
     },
     "execution_count": 50,
     "metadata": {},
     "output_type": "execute_result"
    }
   ],
   "source": [
    "pd.__version__"
   ]
  },
  {
   "cell_type": "code",
   "execution_count": 60,
   "id": "5f7cbf2c-fbf8-4e99-8cf8-9f05593da93f",
   "metadata": {},
   "outputs": [],
   "source": [
    "data = dict(list(liana_res.groupby('sample')))"
   ]
  },
  {
   "cell_type": "code",
   "execution_count": 64,
   "id": "cc6b10a8-d7f1-452a-8c76-649fb4359368",
   "metadata": {},
   "outputs": [
    {
     "data": {
      "text/html": [
       "<div>\n",
       "<style scoped>\n",
       "    .dataframe tbody tr th:only-of-type {\n",
       "        vertical-align: middle;\n",
       "    }\n",
       "\n",
       "    .dataframe tbody tr th {\n",
       "        vertical-align: top;\n",
       "    }\n",
       "\n",
       "    .dataframe thead th {\n",
       "        text-align: right;\n",
       "    }\n",
       "</style>\n",
       "<table border=\"1\" class=\"dataframe\">\n",
       "  <thead>\n",
       "    <tr style=\"text-align: right;\">\n",
       "      <th></th>\n",
       "      <th>sample</th>\n",
       "      <th>source</th>\n",
       "      <th>target</th>\n",
       "      <th>ligand_complex</th>\n",
       "      <th>receptor_complex</th>\n",
       "      <th>lr_means</th>\n",
       "      <th>cellphone_pvals</th>\n",
       "      <th>expr_prod</th>\n",
       "      <th>scaled_weight</th>\n",
       "      <th>lr_logfc</th>\n",
       "      <th>spec_weight</th>\n",
       "      <th>lrscore</th>\n",
       "      <th>lr_probs</th>\n",
       "      <th>cellchat_pvals</th>\n",
       "      <th>specificity_rank</th>\n",
       "      <th>magnitude_rank</th>\n",
       "    </tr>\n",
       "  </thead>\n",
       "  <tbody>\n",
       "    <tr>\n",
       "      <th>73639</th>\n",
       "      <td>L4_1</td>\n",
       "      <td>Smooth_muscle</td>\n",
       "      <td>Macrophages</td>\n",
       "      <td>COL1A1</td>\n",
       "      <td>CD44</td>\n",
       "      <td>4.906976</td>\n",
       "      <td>0.03</td>\n",
       "      <td>20.441854</td>\n",
       "      <td>0.306174</td>\n",
       "      <td>-inf</td>\n",
       "      <td>0.005004</td>\n",
       "      <td>0.906326</td>\n",
       "      <td>0.000145</td>\n",
       "      <td>0.00</td>\n",
       "      <td>NaN</td>\n",
       "      <td>1.962964e-09</td>\n",
       "    </tr>\n",
       "    <tr>\n",
       "      <th>73640</th>\n",
       "      <td>L4_1</td>\n",
       "      <td>Plasma cell_IGHG1</td>\n",
       "      <td>Macrophages</td>\n",
       "      <td>COL1A1</td>\n",
       "      <td>CD44</td>\n",
       "      <td>4.469788</td>\n",
       "      <td>0.04</td>\n",
       "      <td>17.818729</td>\n",
       "      <td>0.238780</td>\n",
       "      <td>NaN</td>\n",
       "      <td>0.004362</td>\n",
       "      <td>0.900331</td>\n",
       "      <td>0.000138</td>\n",
       "      <td>0.00</td>\n",
       "      <td>NaN</td>\n",
       "      <td>8.538117e-08</td>\n",
       "    </tr>\n",
       "    <tr>\n",
       "      <th>73641</th>\n",
       "      <td>L4_1</td>\n",
       "      <td>DC_activated</td>\n",
       "      <td>Macrophages</td>\n",
       "      <td>VIM</td>\n",
       "      <td>CD44</td>\n",
       "      <td>4.425597</td>\n",
       "      <td>0.04</td>\n",
       "      <td>17.553583</td>\n",
       "      <td>0.334427</td>\n",
       "      <td>NaN</td>\n",
       "      <td>0.003852</td>\n",
       "      <td>0.899656</td>\n",
       "      <td>0.000165</td>\n",
       "      <td>0.01</td>\n",
       "      <td>NaN</td>\n",
       "      <td>1.440176e-07</td>\n",
       "    </tr>\n",
       "    <tr>\n",
       "      <th>73642</th>\n",
       "      <td>L4_1</td>\n",
       "      <td>Smooth_muscle</td>\n",
       "      <td>Plasma cell_IGHG3</td>\n",
       "      <td>COL1A1</td>\n",
       "      <td>CD44</td>\n",
       "      <td>5.114656</td>\n",
       "      <td>0.00</td>\n",
       "      <td>23.272104</td>\n",
       "      <td>0.362533</td>\n",
       "      <td>-inf</td>\n",
       "      <td>0.005697</td>\n",
       "      <td>0.911687</td>\n",
       "      <td>0.000084</td>\n",
       "      <td>0.00</td>\n",
       "      <td>NaN</td>\n",
       "      <td>1.663154e-07</td>\n",
       "    </tr>\n",
       "    <tr>\n",
       "      <th>73643</th>\n",
       "      <td>L4_1</td>\n",
       "      <td>DC_activated</td>\n",
       "      <td>DC_activated</td>\n",
       "      <td>VIM</td>\n",
       "      <td>CD44</td>\n",
       "      <td>4.419315</td>\n",
       "      <td>0.00</td>\n",
       "      <td>17.480070</td>\n",
       "      <td>0.332602</td>\n",
       "      <td>NaN</td>\n",
       "      <td>0.003836</td>\n",
       "      <td>0.899467</td>\n",
       "      <td>0.000124</td>\n",
       "      <td>0.00</td>\n",
       "      <td>NaN</td>\n",
       "      <td>1.813980e-07</td>\n",
       "    </tr>\n",
       "    <tr>\n",
       "      <th>...</th>\n",
       "      <td>...</td>\n",
       "      <td>...</td>\n",
       "      <td>...</td>\n",
       "      <td>...</td>\n",
       "      <td>...</td>\n",
       "      <td>...</td>\n",
       "      <td>...</td>\n",
       "      <td>...</td>\n",
       "      <td>...</td>\n",
       "      <td>...</td>\n",
       "      <td>...</td>\n",
       "      <td>...</td>\n",
       "      <td>...</td>\n",
       "      <td>...</td>\n",
       "      <td>...</td>\n",
       "      <td>...</td>\n",
       "    </tr>\n",
       "    <tr>\n",
       "      <th>85646</th>\n",
       "      <td>L4_1</td>\n",
       "      <td>Proliferating_TNK</td>\n",
       "      <td>Proliferating_TNK</td>\n",
       "      <td>LGALS3</td>\n",
       "      <td>MCAM</td>\n",
       "      <td>0.605868</td>\n",
       "      <td>0.00</td>\n",
       "      <td>0.277903</td>\n",
       "      <td>0.130677</td>\n",
       "      <td>-38.616226</td>\n",
       "      <td>0.003489</td>\n",
       "      <td>0.530099</td>\n",
       "      <td>0.000000</td>\n",
       "      <td>1.00</td>\n",
       "      <td>NaN</td>\n",
       "      <td>1.000000e+00</td>\n",
       "    </tr>\n",
       "    <tr>\n",
       "      <th>85647</th>\n",
       "      <td>L4_1</td>\n",
       "      <td>DC_1</td>\n",
       "      <td>Plasma cell_IGHM</td>\n",
       "      <td>CCL2</td>\n",
       "      <td>CCR2</td>\n",
       "      <td>0.291628</td>\n",
       "      <td>0.00</td>\n",
       "      <td>0.082477</td>\n",
       "      <td>0.284603</td>\n",
       "      <td>-10.897043</td>\n",
       "      <td>0.006869</td>\n",
       "      <td>0.380639</td>\n",
       "      <td>0.000000</td>\n",
       "      <td>1.00</td>\n",
       "      <td>NaN</td>\n",
       "      <td>1.000000e+00</td>\n",
       "    </tr>\n",
       "    <tr>\n",
       "      <th>85648</th>\n",
       "      <td>L4_1</td>\n",
       "      <td>Proliferating_TNK</td>\n",
       "      <td>Proliferating_TNK</td>\n",
       "      <td>TNFSF13</td>\n",
       "      <td>FAS</td>\n",
       "      <td>0.285961</td>\n",
       "      <td>0.30</td>\n",
       "      <td>0.078529</td>\n",
       "      <td>0.022499</td>\n",
       "      <td>-4.180782</td>\n",
       "      <td>0.002216</td>\n",
       "      <td>0.374874</td>\n",
       "      <td>0.000000</td>\n",
       "      <td>1.00</td>\n",
       "      <td>NaN</td>\n",
       "      <td>1.000000e+00</td>\n",
       "    </tr>\n",
       "    <tr>\n",
       "      <th>85649</th>\n",
       "      <td>L4_1</td>\n",
       "      <td>T_CTL</td>\n",
       "      <td>Fibroblasts tumour_B3</td>\n",
       "      <td>IGF1</td>\n",
       "      <td>IGF1R</td>\n",
       "      <td>0.238029</td>\n",
       "      <td>0.94</td>\n",
       "      <td>0.043404</td>\n",
       "      <td>-0.022246</td>\n",
       "      <td>-7.654428</td>\n",
       "      <td>0.001946</td>\n",
       "      <td>0.308356</td>\n",
       "      <td>0.000000</td>\n",
       "      <td>1.00</td>\n",
       "      <td>NaN</td>\n",
       "      <td>1.000000e+00</td>\n",
       "    </tr>\n",
       "    <tr>\n",
       "      <th>85650</th>\n",
       "      <td>L4_1</td>\n",
       "      <td>NK</td>\n",
       "      <td>NK</td>\n",
       "      <td>TIMP2</td>\n",
       "      <td>CD44</td>\n",
       "      <td>0.910721</td>\n",
       "      <td>1.00</td>\n",
       "      <td>0.626726</td>\n",
       "      <td>-0.384805</td>\n",
       "      <td>-inf</td>\n",
       "      <td>0.000349</td>\n",
       "      <td>0.628820</td>\n",
       "      <td>0.000000</td>\n",
       "      <td>1.00</td>\n",
       "      <td>NaN</td>\n",
       "      <td>1.000000e+00</td>\n",
       "    </tr>\n",
       "  </tbody>\n",
       "</table>\n",
       "<p>12012 rows × 16 columns</p>\n",
       "</div>"
      ],
      "text/plain": [
       "      sample             source                 target ligand_complex  \\\n",
       "73639   L4_1      Smooth_muscle            Macrophages         COL1A1   \n",
       "73640   L4_1  Plasma cell_IGHG1            Macrophages         COL1A1   \n",
       "73641   L4_1       DC_activated            Macrophages            VIM   \n",
       "73642   L4_1      Smooth_muscle      Plasma cell_IGHG3         COL1A1   \n",
       "73643   L4_1       DC_activated           DC_activated            VIM   \n",
       "...      ...                ...                    ...            ...   \n",
       "85646   L4_1  Proliferating_TNK      Proliferating_TNK         LGALS3   \n",
       "85647   L4_1               DC_1       Plasma cell_IGHM           CCL2   \n",
       "85648   L4_1  Proliferating_TNK      Proliferating_TNK        TNFSF13   \n",
       "85649   L4_1              T_CTL  Fibroblasts tumour_B3           IGF1   \n",
       "85650   L4_1                 NK                     NK          TIMP2   \n",
       "\n",
       "      receptor_complex  lr_means  cellphone_pvals  expr_prod  scaled_weight  \\\n",
       "73639             CD44  4.906976             0.03  20.441854       0.306174   \n",
       "73640             CD44  4.469788             0.04  17.818729       0.238780   \n",
       "73641             CD44  4.425597             0.04  17.553583       0.334427   \n",
       "73642             CD44  5.114656             0.00  23.272104       0.362533   \n",
       "73643             CD44  4.419315             0.00  17.480070       0.332602   \n",
       "...                ...       ...              ...        ...            ...   \n",
       "85646             MCAM  0.605868             0.00   0.277903       0.130677   \n",
       "85647             CCR2  0.291628             0.00   0.082477       0.284603   \n",
       "85648              FAS  0.285961             0.30   0.078529       0.022499   \n",
       "85649            IGF1R  0.238029             0.94   0.043404      -0.022246   \n",
       "85650             CD44  0.910721             1.00   0.626726      -0.384805   \n",
       "\n",
       "        lr_logfc  spec_weight   lrscore  lr_probs  cellchat_pvals  \\\n",
       "73639       -inf     0.005004  0.906326  0.000145            0.00   \n",
       "73640        NaN     0.004362  0.900331  0.000138            0.00   \n",
       "73641        NaN     0.003852  0.899656  0.000165            0.01   \n",
       "73642       -inf     0.005697  0.911687  0.000084            0.00   \n",
       "73643        NaN     0.003836  0.899467  0.000124            0.00   \n",
       "...          ...          ...       ...       ...             ...   \n",
       "85646 -38.616226     0.003489  0.530099  0.000000            1.00   \n",
       "85647 -10.897043     0.006869  0.380639  0.000000            1.00   \n",
       "85648  -4.180782     0.002216  0.374874  0.000000            1.00   \n",
       "85649  -7.654428     0.001946  0.308356  0.000000            1.00   \n",
       "85650       -inf     0.000349  0.628820  0.000000            1.00   \n",
       "\n",
       "       specificity_rank  magnitude_rank  \n",
       "73639               NaN    1.962964e-09  \n",
       "73640               NaN    8.538117e-08  \n",
       "73641               NaN    1.440176e-07  \n",
       "73642               NaN    1.663154e-07  \n",
       "73643               NaN    1.813980e-07  \n",
       "...                 ...             ...  \n",
       "85646               NaN    1.000000e+00  \n",
       "85647               NaN    1.000000e+00  \n",
       "85648               NaN    1.000000e+00  \n",
       "85649               NaN    1.000000e+00  \n",
       "85650               NaN    1.000000e+00  \n",
       "\n",
       "[12012 rows x 16 columns]"
      ]
     },
     "execution_count": 64,
     "metadata": {},
     "output_type": "execute_result"
    }
   ],
   "source": [
    "data['L4_1']"
   ]
  },
  {
   "cell_type": "markdown",
   "id": "cff1b433-9e36-4843-91ed-a662bf253096",
   "metadata": {},
   "source": [
    "## 3.6 Exporting tensors"
   ]
  },
  {
   "cell_type": "code",
   "execution_count": 52,
   "id": "2ebad220-d366-4e2b-bb0c-4f699b949d21",
   "metadata": {
    "scrolled": true
   },
   "outputs": [
    {
     "name": "stdout",
     "output_type": "stream",
     "text": [
      "/work/PRTNR/CHUV/DIR/rgottar1/spatial/env/astear/Analysis/TensorC2C/data/tc2c-outputs/BALF-Tensor-5chuvio-VISTA_17_04_24.pkl  was correctly saved.\n"
     ]
    }
   ],
   "source": [
    "c2c.io.export_variable_with_pickle(tensor, output_folder + 'BALF-Tensor-5chuvio-VISTA_17_04_24.pkl')"
   ]
  },
  {
   "cell_type": "code",
   "execution_count": 53,
   "id": "0a7aec1b-bc20-4c41-806a-12d4cf351294",
   "metadata": {
    "scrolled": true
   },
   "outputs": [
    {
     "name": "stdout",
     "output_type": "stream",
     "text": [
      "/work/PRTNR/CHUV/DIR/rgottar1/spatial/env/astear/Analysis/TensorC2C/data/tc2c-outputs/BALF-Tensor-5chuvio-VISTA-Metadata_17_04_24.pkl  was correctly saved.\n"
     ]
    }
   ],
   "source": [
    "c2c.io.export_variable_with_pickle(meta_tensor, output_folder + 'BALF-Tensor-5chuvio-VISTA-Metadata_17_04_24.pkl')"
   ]
  },
  {
   "cell_type": "markdown",
   "id": "96f76428-8572-4c64-90ae-e1bfee14b0f9",
   "metadata": {},
   "source": [
    "## 4. Running Tensor-cell2cell to perform a tensor factorization"
   ]
  },
  {
   "cell_type": "code",
   "execution_count": null,
   "id": "48c6a8c7-914f-4b45-8726-050a65cbf66f",
   "metadata": {},
   "outputs": [],
   "source": [
    "# done in the cluster"
   ]
  },
  {
   "cell_type": "markdown",
   "id": "c4f96587-ae81-4828-973b-40e9fd2e3b5c",
   "metadata": {},
   "source": [
    "## 5. Downstream Analyses of Factor Loadings"
   ]
  },
  {
   "cell_type": "code",
   "execution_count": 2,
   "id": "1cb09760-6bb4-4687-a534-484b21263591",
   "metadata": {},
   "outputs": [
    {
     "name": "stderr",
     "output_type": "stream",
     "text": [
      "/work/PRTNR/CHUV/DIR/rgottar1/spatial/env/astear/pkgs/miniforge3/envs/CellPhoneDB/lib/python3.11/site-packages/tqdm/auto.py:21: TqdmWarning: IProgress not found. Please update jupyter and ipywidgets. See https://ipywidgets.readthedocs.io/en/stable/user_install.html\n",
      "  from .autonotebook import tqdm as notebook_tqdm\n"
     ]
    }
   ],
   "source": [
    "import cell2cell as c2c\n",
    "\n",
    "import pandas as pd\n",
    "\n",
    "import matplotlib.pyplot as plt\n",
    "import seaborn as sns\n",
    "%matplotlib inline"
   ]
  },
  {
   "cell_type": "code",
   "execution_count": null,
   "id": "54982835-07a5-4d7e-bdfe-ed6501859f8c",
   "metadata": {},
   "outputs": [],
   "source": []
  },
  {
   "cell_type": "code",
   "execution_count": null,
   "id": "8446d5c1-45a8-4ee2-bf05-4cdc9d2bbcf5",
   "metadata": {},
   "outputs": [],
   "source": []
  },
  {
   "cell_type": "code",
   "execution_count": null,
   "id": "a8ec464c-a132-4e6c-8d55-96e865441458",
   "metadata": {},
   "outputs": [],
   "source": []
  },
  {
   "cell_type": "code",
   "execution_count": null,
   "id": "e7a8ba0a-2ea7-4427-92a9-2ef81e527937",
   "metadata": {},
   "outputs": [],
   "source": []
  }
 ],
 "metadata": {
  "kernelspec": {
   "display_name": "CellPhoneDB",
   "language": "python",
   "name": "cellphonedb"
  },
  "language_info": {
   "codemirror_mode": {
    "name": "ipython",
    "version": 3
   },
   "file_extension": ".py",
   "mimetype": "text/x-python",
   "name": "python",
   "nbconvert_exporter": "python",
   "pygments_lexer": "ipython3",
   "version": "3.11.7"
  }
 },
 "nbformat": 4,
 "nbformat_minor": 5
}
