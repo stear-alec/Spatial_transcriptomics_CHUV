{
 "cells": [
  {
   "cell_type": "markdown",
   "id": "b2765e04-3986-4675-89da-15bb29bab0a5",
   "metadata": {},
   "source": [
    "## The Neutrophil dataset"
   ]
  },
  {
   "cell_type": "code",
   "execution_count": 1,
   "id": "84488c02-271e-41dd-8960-2057e29950a9",
   "metadata": {},
   "outputs": [],
   "source": [
    "#import the data : neutro annotations and chuvio data\n",
    "# -> looking at where the data from before hand comes from ... "
   ]
  },
  {
   "cell_type": "code",
   "execution_count": null,
   "id": "71aecbd1-5997-4ea5-9d08-6c2719ac0aff",
   "metadata": {},
   "outputs": [],
   "source": []
  },
  {
   "cell_type": "code",
   "execution_count": null,
   "id": "acf05701-a787-4e8c-bb22-ba1f1dbbf95d",
   "metadata": {},
   "outputs": [],
   "source": []
  },
  {
   "cell_type": "code",
   "execution_count": null,
   "id": "10bfe419-cca1-4712-b213-a08ad34eee20",
   "metadata": {},
   "outputs": [],
   "source": []
  },
  {
   "cell_type": "code",
   "execution_count": null,
   "id": "f1475271-34d2-48d3-ad0f-3e1e63a6a09e",
   "metadata": {},
   "outputs": [],
   "source": []
  },
  {
   "cell_type": "code",
   "execution_count": null,
   "id": "6b5d9459-5c84-4745-ae33-3da3c36bc838",
   "metadata": {},
   "outputs": [],
   "source": []
  },
  {
   "cell_type": "code",
   "execution_count": null,
   "id": "79757f1c-039c-4ea4-ac4a-650864b1d297",
   "metadata": {},
   "outputs": [],
   "source": []
  },
  {
   "cell_type": "code",
   "execution_count": null,
   "id": "c4387afe-0006-4f36-b7ac-a31344d7e2c3",
   "metadata": {},
   "outputs": [],
   "source": []
  },
  {
   "cell_type": "code",
   "execution_count": null,
   "id": "1a6b3381-d229-4d94-8f50-55d9b47a3e25",
   "metadata": {},
   "outputs": [],
   "source": []
  }
 ],
 "metadata": {
  "kernelspec": {
   "display_name": "CellPhoneDB",
   "language": "python",
   "name": "cellphonedb"
  },
  "language_info": {
   "codemirror_mode": {
    "name": "ipython",
    "version": 3
   },
   "file_extension": ".py",
   "mimetype": "text/x-python",
   "name": "python",
   "nbconvert_exporter": "python",
   "pygments_lexer": "ipython3",
   "version": "3.11.7"
  }
 },
 "nbformat": 4,
 "nbformat_minor": 5
}
