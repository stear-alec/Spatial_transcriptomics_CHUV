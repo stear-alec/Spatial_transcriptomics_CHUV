{
 "cells": [
  {
   "cell_type": "markdown",
   "id": "29174023-493f-4873-96d8-4910b3814564",
   "metadata": {},
   "source": [
    "# NCEM "
   ]
  },
  {
   "cell_type": "markdown",
   "id": "21024a31-8ece-485e-a9d1-8b37f81c21a3",
   "metadata": {},
   "source": [
    "## Trying the vignette "
   ]
  },
  {
   "cell_type": "code",
   "execution_count": 1,
   "id": "25d4642a-2e33-4d67-a093-46860177395f",
   "metadata": {
    "scrolled": true
   },
   "outputs": [
    {
     "name": "stdout",
     "output_type": "stream",
     "text": [
      "\u001b[31mERROR: Ignored the following versions that require a different python version: 0.1.0 Requires-Python >=3.7,<3.10; 0.1.1 Requires-Python >=3.7,<3.9; 0.1.2 Requires-Python >=3.7,<3.9; 0.1.3 Requires-Python >=3.7,<3.9; 0.1.4 Requires-Python >=3.7,<3.9; 0.1.5 Requires-Python >=3.8,<=3.10\u001b[0m\u001b[31m\n",
      "\u001b[0m\u001b[31mERROR: Could not find a version that satisfies the requirement ncem (from versions: none)\u001b[0m\u001b[31m\n",
      "\u001b[0m\u001b[31mERROR: No matching distribution found for ncem\u001b[0m\u001b[31m\n",
      "\u001b[0mNote: you may need to restart the kernel to use updated packages.\n"
     ]
    }
   ],
   "source": [
    "pip install ncem"
   ]
  }
 ],
 "metadata": {
  "kernelspec": {
   "display_name": "CellPhoneDB",
   "language": "python",
   "name": "cellphonedb"
  },
  "language_info": {
   "codemirror_mode": {
    "name": "ipython",
    "version": 3
   },
   "file_extension": ".py",
   "mimetype": "text/x-python",
   "name": "python",
   "nbconvert_exporter": "python",
   "pygments_lexer": "ipython3",
   "version": "3.11.7"
  }
 },
 "nbformat": 4,
 "nbformat_minor": 5
}
